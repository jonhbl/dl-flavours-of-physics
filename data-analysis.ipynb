{
 "cells": [
  {
   "cell_type": "markdown",
   "metadata": {},
   "source": [
    "## Introduction"
   ]
  },
  {
   "cell_type": "markdown",
   "metadata": {},
   "source": [
    "Parte do material utilizado para desenvolver esse projeto, assim como as referências foram retiradas do artigo de exemplo para o projeto ..."
   ]
  },
  {
   "cell_type": "markdown",
   "metadata": {},
   "source": [
    "## Challenge"
   ]
  },
  {
   "cell_type": "code",
   "execution_count": null,
   "metadata": {},
   "outputs": [],
   "source": []
  },
  {
   "cell_type": "markdown",
   "metadata": {},
   "source": [
    "## Bibliotecas\n"
   ]
  },
  {
   "cell_type": "code",
   "execution_count": 6,
   "metadata": {},
   "outputs": [],
   "source": [
    "import pandas as pd\n",
    "import numpy as np\n",
    "import seaborn as sns\n",
    "import matplotlib.pyplot as plt\n",
    "pd.set_option('display.max_columns', None)"
   ]
  },
  {
   "cell_type": "code",
   "execution_count": 10,
   "metadata": {},
   "outputs": [],
   "source": []
  },
  {
   "cell_type": "code",
   "execution_count": 11,
   "metadata": {},
   "outputs": [],
   "source": [
    "df = pd.read_csv(\"data/training.csv\")"
   ]
  },
  {
   "cell_type": "code",
   "execution_count": 12,
   "metadata": {},
   "outputs": [
    {
     "data": {
      "text/html": [
       "<div>\n",
       "<style scoped>\n",
       "    .dataframe tbody tr th:only-of-type {\n",
       "        vertical-align: middle;\n",
       "    }\n",
       "\n",
       "    .dataframe tbody tr th {\n",
       "        vertical-align: top;\n",
       "    }\n",
       "\n",
       "    .dataframe thead th {\n",
       "        text-align: right;\n",
       "    }\n",
       "</style>\n",
       "<table border=\"1\" class=\"dataframe\">\n",
       "  <thead>\n",
       "    <tr style=\"text-align: right;\">\n",
       "      <th></th>\n",
       "      <th>id</th>\n",
       "      <th>LifeTime</th>\n",
       "      <th>dira</th>\n",
       "      <th>FlightDistance</th>\n",
       "      <th>FlightDistanceError</th>\n",
       "      <th>IP</th>\n",
       "      <th>IPSig</th>\n",
       "      <th>VertexChi2</th>\n",
       "      <th>pt</th>\n",
       "      <th>DOCAone</th>\n",
       "      <th>DOCAtwo</th>\n",
       "      <th>DOCAthree</th>\n",
       "      <th>IP_p0p2</th>\n",
       "      <th>IP_p1p2</th>\n",
       "      <th>isolationa</th>\n",
       "      <th>isolationb</th>\n",
       "      <th>isolationc</th>\n",
       "      <th>isolationd</th>\n",
       "      <th>isolatione</th>\n",
       "      <th>isolationf</th>\n",
       "      <th>iso</th>\n",
       "      <th>CDF1</th>\n",
       "      <th>CDF2</th>\n",
       "      <th>CDF3</th>\n",
       "      <th>ISO_SumBDT</th>\n",
       "      <th>p0_IsoBDT</th>\n",
       "      <th>p1_IsoBDT</th>\n",
       "      <th>p2_IsoBDT</th>\n",
       "      <th>p0_track_Chi2Dof</th>\n",
       "      <th>p1_track_Chi2Dof</th>\n",
       "      <th>p2_track_Chi2Dof</th>\n",
       "      <th>p0_IP</th>\n",
       "      <th>p1_IP</th>\n",
       "      <th>p2_IP</th>\n",
       "      <th>p0_IPSig</th>\n",
       "      <th>p1_IPSig</th>\n",
       "      <th>p2_IPSig</th>\n",
       "      <th>p0_pt</th>\n",
       "      <th>p1_pt</th>\n",
       "      <th>p2_pt</th>\n",
       "      <th>p0_p</th>\n",
       "      <th>p1_p</th>\n",
       "      <th>p2_p</th>\n",
       "      <th>p0_eta</th>\n",
       "      <th>p1_eta</th>\n",
       "      <th>p2_eta</th>\n",
       "      <th>SPDhits</th>\n",
       "      <th>production</th>\n",
       "      <th>signal</th>\n",
       "      <th>mass</th>\n",
       "      <th>min_ANNmuon</th>\n",
       "    </tr>\n",
       "  </thead>\n",
       "  <tbody>\n",
       "    <tr>\n",
       "      <th>0</th>\n",
       "      <td>18453471</td>\n",
       "      <td>0.001578</td>\n",
       "      <td>0.999999</td>\n",
       "      <td>14.033335</td>\n",
       "      <td>0.681401</td>\n",
       "      <td>0.016039</td>\n",
       "      <td>0.451886</td>\n",
       "      <td>1.900433</td>\n",
       "      <td>1482.037476</td>\n",
       "      <td>0.066667</td>\n",
       "      <td>0.060602</td>\n",
       "      <td>0.083660</td>\n",
       "      <td>0.208855</td>\n",
       "      <td>0.074343</td>\n",
       "      <td>8</td>\n",
       "      <td>5</td>\n",
       "      <td>7</td>\n",
       "      <td>1.0</td>\n",
       "      <td>0.0</td>\n",
       "      <td>3.0</td>\n",
       "      <td>4.0</td>\n",
       "      <td>0.473952</td>\n",
       "      <td>0.349447</td>\n",
       "      <td>0.329157</td>\n",
       "      <td>-0.579324</td>\n",
       "      <td>-0.256309</td>\n",
       "      <td>-0.215444</td>\n",
       "      <td>-0.107570</td>\n",
       "      <td>1.921700</td>\n",
       "      <td>0.866657</td>\n",
       "      <td>1.230708</td>\n",
       "      <td>0.988054</td>\n",
       "      <td>0.601483</td>\n",
       "      <td>0.277090</td>\n",
       "      <td>16.243183</td>\n",
       "      <td>4.580875</td>\n",
       "      <td>5.939936</td>\n",
       "      <td>353.819733</td>\n",
       "      <td>448.369446</td>\n",
       "      <td>1393.246826</td>\n",
       "      <td>3842.096436</td>\n",
       "      <td>12290.760742</td>\n",
       "      <td>39264.398438</td>\n",
       "      <td>3.076006</td>\n",
       "      <td>4.003800</td>\n",
       "      <td>4.031514</td>\n",
       "      <td>458</td>\n",
       "      <td>-99</td>\n",
       "      <td>0</td>\n",
       "      <td>1866.300049</td>\n",
       "      <td>0.277559</td>\n",
       "    </tr>\n",
       "    <tr>\n",
       "      <th>1</th>\n",
       "      <td>5364094</td>\n",
       "      <td>0.000988</td>\n",
       "      <td>0.999705</td>\n",
       "      <td>5.536157</td>\n",
       "      <td>0.302341</td>\n",
       "      <td>0.142163</td>\n",
       "      <td>9.564503</td>\n",
       "      <td>0.865666</td>\n",
       "      <td>3050.720703</td>\n",
       "      <td>0.024022</td>\n",
       "      <td>0.019245</td>\n",
       "      <td>0.030784</td>\n",
       "      <td>0.336345</td>\n",
       "      <td>0.173161</td>\n",
       "      <td>7</td>\n",
       "      <td>12</td>\n",
       "      <td>2</td>\n",
       "      <td>0.0</td>\n",
       "      <td>1.0</td>\n",
       "      <td>1.0</td>\n",
       "      <td>2.0</td>\n",
       "      <td>0.325785</td>\n",
       "      <td>0.265939</td>\n",
       "      <td>0.192599</td>\n",
       "      <td>-0.873926</td>\n",
       "      <td>-0.223774</td>\n",
       "      <td>-0.224871</td>\n",
       "      <td>-0.425281</td>\n",
       "      <td>0.958776</td>\n",
       "      <td>0.858357</td>\n",
       "      <td>1.810709</td>\n",
       "      <td>0.098752</td>\n",
       "      <td>0.219099</td>\n",
       "      <td>0.614524</td>\n",
       "      <td>3.610463</td>\n",
       "      <td>15.555593</td>\n",
       "      <td>11.238523</td>\n",
       "      <td>656.524902</td>\n",
       "      <td>2033.918701</td>\n",
       "      <td>747.137024</td>\n",
       "      <td>8299.368164</td>\n",
       "      <td>16562.667969</td>\n",
       "      <td>7341.257812</td>\n",
       "      <td>3.228553</td>\n",
       "      <td>2.786543</td>\n",
       "      <td>2.975564</td>\n",
       "      <td>406</td>\n",
       "      <td>-99</td>\n",
       "      <td>0</td>\n",
       "      <td>1727.095947</td>\n",
       "      <td>0.225924</td>\n",
       "    </tr>\n",
       "    <tr>\n",
       "      <th>2</th>\n",
       "      <td>11130990</td>\n",
       "      <td>0.000877</td>\n",
       "      <td>0.999984</td>\n",
       "      <td>6.117302</td>\n",
       "      <td>0.276463</td>\n",
       "      <td>0.034746</td>\n",
       "      <td>1.970751</td>\n",
       "      <td>10.975849</td>\n",
       "      <td>3895.908691</td>\n",
       "      <td>0.055044</td>\n",
       "      <td>0.047947</td>\n",
       "      <td>0.096829</td>\n",
       "      <td>0.169165</td>\n",
       "      <td>0.079789</td>\n",
       "      <td>1</td>\n",
       "      <td>0</td>\n",
       "      <td>1</td>\n",
       "      <td>0.0</td>\n",
       "      <td>0.0</td>\n",
       "      <td>0.0</td>\n",
       "      <td>0.0</td>\n",
       "      <td>1.000000</td>\n",
       "      <td>0.786482</td>\n",
       "      <td>0.557760</td>\n",
       "      <td>-0.479636</td>\n",
       "      <td>-0.202451</td>\n",
       "      <td>-0.100762</td>\n",
       "      <td>-0.176424</td>\n",
       "      <td>0.720973</td>\n",
       "      <td>1.408519</td>\n",
       "      <td>1.038347</td>\n",
       "      <td>0.186143</td>\n",
       "      <td>0.215668</td>\n",
       "      <td>0.371820</td>\n",
       "      <td>4.851371</td>\n",
       "      <td>11.590331</td>\n",
       "      <td>13.723293</td>\n",
       "      <td>658.523743</td>\n",
       "      <td>2576.380615</td>\n",
       "      <td>963.652466</td>\n",
       "      <td>11323.134766</td>\n",
       "      <td>22695.388672</td>\n",
       "      <td>10225.309570</td>\n",
       "      <td>3.536903</td>\n",
       "      <td>2.865686</td>\n",
       "      <td>3.052810</td>\n",
       "      <td>196</td>\n",
       "      <td>-99</td>\n",
       "      <td>0</td>\n",
       "      <td>1898.588013</td>\n",
       "      <td>0.368630</td>\n",
       "    </tr>\n",
       "    <tr>\n",
       "      <th>3</th>\n",
       "      <td>15173787</td>\n",
       "      <td>0.000854</td>\n",
       "      <td>0.999903</td>\n",
       "      <td>5.228067</td>\n",
       "      <td>0.220739</td>\n",
       "      <td>0.076389</td>\n",
       "      <td>4.271331</td>\n",
       "      <td>3.276358</td>\n",
       "      <td>4010.781738</td>\n",
       "      <td>0.053779</td>\n",
       "      <td>0.006417</td>\n",
       "      <td>0.044816</td>\n",
       "      <td>0.050989</td>\n",
       "      <td>0.068167</td>\n",
       "      <td>2</td>\n",
       "      <td>2</td>\n",
       "      <td>4</td>\n",
       "      <td>0.0</td>\n",
       "      <td>0.0</td>\n",
       "      <td>0.0</td>\n",
       "      <td>0.0</td>\n",
       "      <td>1.000000</td>\n",
       "      <td>0.501195</td>\n",
       "      <td>0.501195</td>\n",
       "      <td>-0.439453</td>\n",
       "      <td>-0.162267</td>\n",
       "      <td>-0.176424</td>\n",
       "      <td>-0.100762</td>\n",
       "      <td>1.172767</td>\n",
       "      <td>2.044164</td>\n",
       "      <td>0.811454</td>\n",
       "      <td>0.255752</td>\n",
       "      <td>0.210698</td>\n",
       "      <td>0.392195</td>\n",
       "      <td>7.292110</td>\n",
       "      <td>8.778173</td>\n",
       "      <td>16.462036</td>\n",
       "      <td>1047.216187</td>\n",
       "      <td>1351.734131</td>\n",
       "      <td>1685.003662</td>\n",
       "      <td>11502.081055</td>\n",
       "      <td>16909.515625</td>\n",
       "      <td>9141.426758</td>\n",
       "      <td>3.087461</td>\n",
       "      <td>3.218034</td>\n",
       "      <td>2.375592</td>\n",
       "      <td>137</td>\n",
       "      <td>-99</td>\n",
       "      <td>0</td>\n",
       "      <td>1840.410034</td>\n",
       "      <td>0.246045</td>\n",
       "    </tr>\n",
       "    <tr>\n",
       "      <th>4</th>\n",
       "      <td>1102544</td>\n",
       "      <td>0.001129</td>\n",
       "      <td>0.999995</td>\n",
       "      <td>39.069534</td>\n",
       "      <td>1.898197</td>\n",
       "      <td>0.120936</td>\n",
       "      <td>4.984982</td>\n",
       "      <td>0.468348</td>\n",
       "      <td>4144.546875</td>\n",
       "      <td>0.004491</td>\n",
       "      <td>0.037326</td>\n",
       "      <td>0.019026</td>\n",
       "      <td>0.172065</td>\n",
       "      <td>0.131732</td>\n",
       "      <td>0</td>\n",
       "      <td>2</td>\n",
       "      <td>0</td>\n",
       "      <td>0.0</td>\n",
       "      <td>0.0</td>\n",
       "      <td>0.0</td>\n",
       "      <td>0.0</td>\n",
       "      <td>1.000000</td>\n",
       "      <td>1.000000</td>\n",
       "      <td>0.639926</td>\n",
       "      <td>-0.822285</td>\n",
       "      <td>-0.291524</td>\n",
       "      <td>-0.261078</td>\n",
       "      <td>-0.269682</td>\n",
       "      <td>1.523252</td>\n",
       "      <td>0.435325</td>\n",
       "      <td>0.581312</td>\n",
       "      <td>0.270755</td>\n",
       "      <td>0.183355</td>\n",
       "      <td>0.630763</td>\n",
       "      <td>6.783962</td>\n",
       "      <td>3.342091</td>\n",
       "      <td>17.252840</td>\n",
       "      <td>1442.538208</td>\n",
       "      <td>1755.792236</td>\n",
       "      <td>1282.428711</td>\n",
       "      <td>74117.117188</td>\n",
       "      <td>97612.804688</td>\n",
       "      <td>47118.785156</td>\n",
       "      <td>4.632295</td>\n",
       "      <td>4.711155</td>\n",
       "      <td>4.296878</td>\n",
       "      <td>477</td>\n",
       "      <td>-99</td>\n",
       "      <td>0</td>\n",
       "      <td>1899.793945</td>\n",
       "      <td>0.222060</td>\n",
       "    </tr>\n",
       "  </tbody>\n",
       "</table>\n",
       "</div>"
      ],
      "text/plain": [
       "         id  LifeTime      dira  FlightDistance  FlightDistanceError  \\\n",
       "0  18453471  0.001578  0.999999       14.033335             0.681401   \n",
       "1   5364094  0.000988  0.999705        5.536157             0.302341   \n",
       "2  11130990  0.000877  0.999984        6.117302             0.276463   \n",
       "3  15173787  0.000854  0.999903        5.228067             0.220739   \n",
       "4   1102544  0.001129  0.999995       39.069534             1.898197   \n",
       "\n",
       "         IP     IPSig  VertexChi2           pt   DOCAone   DOCAtwo  DOCAthree  \\\n",
       "0  0.016039  0.451886    1.900433  1482.037476  0.066667  0.060602   0.083660   \n",
       "1  0.142163  9.564503    0.865666  3050.720703  0.024022  0.019245   0.030784   \n",
       "2  0.034746  1.970751   10.975849  3895.908691  0.055044  0.047947   0.096829   \n",
       "3  0.076389  4.271331    3.276358  4010.781738  0.053779  0.006417   0.044816   \n",
       "4  0.120936  4.984982    0.468348  4144.546875  0.004491  0.037326   0.019026   \n",
       "\n",
       "    IP_p0p2   IP_p1p2  isolationa  isolationb  isolationc  isolationd  \\\n",
       "0  0.208855  0.074343           8           5           7         1.0   \n",
       "1  0.336345  0.173161           7          12           2         0.0   \n",
       "2  0.169165  0.079789           1           0           1         0.0   \n",
       "3  0.050989  0.068167           2           2           4         0.0   \n",
       "4  0.172065  0.131732           0           2           0         0.0   \n",
       "\n",
       "   isolatione  isolationf  iso      CDF1      CDF2      CDF3  ISO_SumBDT  \\\n",
       "0         0.0         3.0  4.0  0.473952  0.349447  0.329157   -0.579324   \n",
       "1         1.0         1.0  2.0  0.325785  0.265939  0.192599   -0.873926   \n",
       "2         0.0         0.0  0.0  1.000000  0.786482  0.557760   -0.479636   \n",
       "3         0.0         0.0  0.0  1.000000  0.501195  0.501195   -0.439453   \n",
       "4         0.0         0.0  0.0  1.000000  1.000000  0.639926   -0.822285   \n",
       "\n",
       "   p0_IsoBDT  p1_IsoBDT  p2_IsoBDT  p0_track_Chi2Dof  p1_track_Chi2Dof  \\\n",
       "0  -0.256309  -0.215444  -0.107570          1.921700          0.866657   \n",
       "1  -0.223774  -0.224871  -0.425281          0.958776          0.858357   \n",
       "2  -0.202451  -0.100762  -0.176424          0.720973          1.408519   \n",
       "3  -0.162267  -0.176424  -0.100762          1.172767          2.044164   \n",
       "4  -0.291524  -0.261078  -0.269682          1.523252          0.435325   \n",
       "\n",
       "   p2_track_Chi2Dof     p0_IP     p1_IP     p2_IP   p0_IPSig   p1_IPSig  \\\n",
       "0          1.230708  0.988054  0.601483  0.277090  16.243183   4.580875   \n",
       "1          1.810709  0.098752  0.219099  0.614524   3.610463  15.555593   \n",
       "2          1.038347  0.186143  0.215668  0.371820   4.851371  11.590331   \n",
       "3          0.811454  0.255752  0.210698  0.392195   7.292110   8.778173   \n",
       "4          0.581312  0.270755  0.183355  0.630763   6.783962   3.342091   \n",
       "\n",
       "    p2_IPSig        p0_pt        p1_pt        p2_pt          p0_p  \\\n",
       "0   5.939936   353.819733   448.369446  1393.246826   3842.096436   \n",
       "1  11.238523   656.524902  2033.918701   747.137024   8299.368164   \n",
       "2  13.723293   658.523743  2576.380615   963.652466  11323.134766   \n",
       "3  16.462036  1047.216187  1351.734131  1685.003662  11502.081055   \n",
       "4  17.252840  1442.538208  1755.792236  1282.428711  74117.117188   \n",
       "\n",
       "           p1_p          p2_p    p0_eta    p1_eta    p2_eta  SPDhits  \\\n",
       "0  12290.760742  39264.398438  3.076006  4.003800  4.031514      458   \n",
       "1  16562.667969   7341.257812  3.228553  2.786543  2.975564      406   \n",
       "2  22695.388672  10225.309570  3.536903  2.865686  3.052810      196   \n",
       "3  16909.515625   9141.426758  3.087461  3.218034  2.375592      137   \n",
       "4  97612.804688  47118.785156  4.632295  4.711155  4.296878      477   \n",
       "\n",
       "   production  signal         mass  min_ANNmuon  \n",
       "0         -99       0  1866.300049     0.277559  \n",
       "1         -99       0  1727.095947     0.225924  \n",
       "2         -99       0  1898.588013     0.368630  \n",
       "3         -99       0  1840.410034     0.246045  \n",
       "4         -99       0  1899.793945     0.222060  "
      ]
     },
     "execution_count": 12,
     "metadata": {},
     "output_type": "execute_result"
    }
   ],
   "source": [
    "df.head()"
   ]
  },
  {
   "cell_type": "code",
   "execution_count": 16,
   "metadata": {},
   "outputs": [
    {
     "data": {
      "text/plain": [
       "<Axes: >"
      ]
     },
     "execution_count": 16,
     "metadata": {},
     "output_type": "execute_result"
    },
    {
     "data": {
      "image/png": "[encoded data removed]",
      "text/plain": [
       "<Figure size 640x480 with 1 Axes>"
      ]
     },
     "metadata": {},
     "output_type": "display_data"
    }
   ],
   "source": [
    "df['production'].hist(bins=100)"
   ]
  },
  {
   "cell_type": "code",
   "execution_count": 18,
   "metadata": {},
   "outputs": [
    {
     "data": {
      "text/plain": [
       "array([-99,   1,   4,   8,   9,   5,   2,   6,   3,   7,  10])"
      ]
     },
     "execution_count": 18,
     "metadata": {},
     "output_type": "execute_result"
    }
   ],
   "source": [
    "df['production'].unique()"
   ]
  },
  {
   "cell_type": "markdown",
   "metadata": {},
   "source": [
    "## Exploratory Data Analysis (EDA)"
   ]
  },
  {
   "cell_type": "markdown",
   "metadata": {},
   "source": [
    "### training.csv"
   ]
  },
  {
   "cell_type": "markdown",
   "metadata": {},
   "source": [
    "##### Production"
   ]
  },
  {
   "cell_type": "markdown",
   "metadata": {},
   "source": [
    "#### features"
   ]
  },
  {
   "cell_type": "markdown",
   "metadata": {},
   "source": [
    "##### Mass"
   ]
  },
  {
   "cell_type": "markdown",
   "metadata": {},
   "source": [
    "##### min_ANNmuon"
   ]
  },
  {
   "cell_type": "markdown",
   "metadata": {},
   "source": [
    "### test.csv\n"
   ]
  },
  {
   "cell_type": "markdown",
   "metadata": {},
   "source": [
    "### check_agreement.csv"
   ]
  },
  {
   "cell_type": "markdown",
   "metadata": {},
   "source": [
    "### check_correlation.csv"
   ]
  },
  {
   "cell_type": "markdown",
   "metadata": {},
   "source": [
    "### Preprocessing"
   ]
  },
  {
   "cell_type": "markdown",
   "metadata": {},
   "source": [
    "#### Feature Engineering"
   ]
  },
  {
   "cell_type": "markdown",
   "metadata": {},
   "source": [
    "##### Mass reconstruction"
   ]
  },
  {
   "cell_type": "markdown",
   "metadata": {},
   "source": [
    "* Kinematic relations"
   ]
  },
  {
   "cell_type": "code",
   "execution_count": null,
   "metadata": {},
   "outputs": [],
   "source": []
  },
  {
   "cell_type": "markdown",
   "metadata": {},
   "source": [
    "* Machine Learning Ajustments"
   ]
  },
  {
   "cell_type": "markdown",
   "metadata": {},
   "source": [
    "#### Scaling"
   ]
  },
  {
   "cell_type": "markdown",
   "metadata": {},
   "source": [
    "#### PCA"
   ]
  },
  {
   "cell_type": "markdown",
   "metadata": {},
   "source": [
    "## Model"
   ]
  },
  {
   "cell_type": "markdown",
   "metadata": {},
   "source": [
    "### XGB"
   ]
  },
  {
   "cell_type": "markdown",
   "metadata": {},
   "source": [
    "### Neural Network"
   ]
  },
  {
   "cell_type": "markdown",
   "metadata": {},
   "source": [
    "### LightGBM"
   ]
  },
  {
   "cell_type": "markdown",
   "metadata": {},
   "source": [
    "## Evaluation"
   ]
  },
  {
   "cell_type": "markdown",
   "metadata": {},
   "source": [
    "### Agreement"
   ]
  },
  {
   "cell_type": "markdown",
   "metadata": {},
   "source": [
    "### Correlation"
   ]
  },
  {
   "cell_type": "markdown",
   "metadata": {},
   "source": [
    "### ROC"
   ]
  },
  {
   "cell_type": "markdown",
   "metadata": {},
   "source": []
  }
 ],
 "metadata": {
  "kernelspec": {
   "display_name": "base",
   "language": "python",
   "name": "python3"
  },
  "language_info": {
   "codemirror_mode": {
    "name": "ipython",
    "version": 3
   },
   "file_extension": ".py",
   "mimetype": "text/x-python",
   "name": "python",
   "nbconvert_exporter": "python",
   "pygments_lexer": "ipython3",
   "version": "3.12.8"
  }
 },
 "nbformat": 4,
 "nbformat_minor": 2
}
