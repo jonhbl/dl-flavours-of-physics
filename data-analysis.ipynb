{
 "cells": [
  {
   "cell_type": "markdown",
   "metadata": {},
   "source": [
    "## Introduction\n"
   ]
  },
  {
   "cell_type": "markdown",
   "metadata": {},
   "source": [
    "Parte do material utilizado para desenvolver esse projeto, assim como as referências foram retiradas do artigo de exemplo para o projeto ...\n"
   ]
  },
  {
   "cell_type": "markdown",
   "metadata": {},
   "source": [
    "## Challenge\n"
   ]
  },
  {
   "cell_type": "code",
   "execution_count": null,
   "metadata": {},
   "outputs": [],
   "source": []
  },
  {
   "cell_type": "markdown",
   "metadata": {},
   "source": [
    "## Bibliotecas\n"
   ]
  },
  {
   "cell_type": "code",
   "execution_count": 1,
   "metadata": {},
   "outputs": [],
   "source": [
    "import pandas as pd\n",
    "import numpy as np\n",
    "import seaborn as sns\n",
    "import matplotlib.pyplot as plt\n",
    "\n",
    "pd.set_option(\"display.max_columns\", None)"
   ]
  },
  {
   "cell_type": "markdown",
   "metadata": {},
   "source": [
    "## Import Data\n"
   ]
  },
  {
   "cell_type": "code",
   "execution_count": 2,
   "metadata": {},
   "outputs": [],
   "source": [
    "train = pd.read_csv(\"data/training.csv\")\n",
    "test = pd.read_csv(\"data/test.csv\")\n",
    "\n",
    "check_agreement = pd.read_csv(\"data/check_agreement.csv\")\n",
    "check_correlation = pd.read_csv(\"data/check_correlation.csv\")"
   ]
  },
  {
   "cell_type": "markdown",
   "metadata": {},
   "source": [
    "## Exploratory Data Analysis (EDA)\n"
   ]
  },
  {
   "cell_type": "markdown",
   "metadata": {},
   "source": [
    "### training.csv\n"
   ]
  },
  {
   "cell_type": "code",
   "execution_count": 3,
   "metadata": {},
   "outputs": [
    {
     "data": {
      "text/html": [
       "<div>\n",
       "<style scoped>\n",
       "    .dataframe tbody tr th:only-of-type {\n",
       "        vertical-align: middle;\n",
       "    }\n",
       "\n",
       "    .dataframe tbody tr th {\n",
       "        vertical-align: top;\n",
       "    }\n",
       "\n",
       "    .dataframe thead th {\n",
       "        text-align: right;\n",
       "    }\n",
       "</style>\n",
       "<table border=\"1\" class=\"dataframe\">\n",
       "  <thead>\n",
       "    <tr style=\"text-align: right;\">\n",
       "      <th></th>\n",
       "      <th>id</th>\n",
       "      <th>LifeTime</th>\n",
       "      <th>dira</th>\n",
       "      <th>FlightDistance</th>\n",
       "      <th>FlightDistanceError</th>\n",
       "      <th>IP</th>\n",
       "      <th>IPSig</th>\n",
       "      <th>VertexChi2</th>\n",
       "      <th>pt</th>\n",
       "      <th>DOCAone</th>\n",
       "      <th>DOCAtwo</th>\n",
       "      <th>DOCAthree</th>\n",
       "      <th>IP_p0p2</th>\n",
       "      <th>IP_p1p2</th>\n",
       "      <th>isolationa</th>\n",
       "      <th>isolationb</th>\n",
       "      <th>isolationc</th>\n",
       "      <th>isolationd</th>\n",
       "      <th>isolatione</th>\n",
       "      <th>isolationf</th>\n",
       "      <th>iso</th>\n",
       "      <th>CDF1</th>\n",
       "      <th>CDF2</th>\n",
       "      <th>CDF3</th>\n",
       "      <th>ISO_SumBDT</th>\n",
       "      <th>p0_IsoBDT</th>\n",
       "      <th>p1_IsoBDT</th>\n",
       "      <th>p2_IsoBDT</th>\n",
       "      <th>p0_track_Chi2Dof</th>\n",
       "      <th>p1_track_Chi2Dof</th>\n",
       "      <th>p2_track_Chi2Dof</th>\n",
       "      <th>p0_IP</th>\n",
       "      <th>p1_IP</th>\n",
       "      <th>p2_IP</th>\n",
       "      <th>p0_IPSig</th>\n",
       "      <th>p1_IPSig</th>\n",
       "      <th>p2_IPSig</th>\n",
       "      <th>p0_pt</th>\n",
       "      <th>p1_pt</th>\n",
       "      <th>p2_pt</th>\n",
       "      <th>p0_p</th>\n",
       "      <th>p1_p</th>\n",
       "      <th>p2_p</th>\n",
       "      <th>p0_eta</th>\n",
       "      <th>p1_eta</th>\n",
       "      <th>p2_eta</th>\n",
       "      <th>SPDhits</th>\n",
       "      <th>production</th>\n",
       "      <th>signal</th>\n",
       "      <th>mass</th>\n",
       "      <th>min_ANNmuon</th>\n",
       "    </tr>\n",
       "  </thead>\n",
       "  <tbody>\n",
       "    <tr>\n",
       "      <th>0</th>\n",
       "      <td>18453471</td>\n",
       "      <td>0.001578</td>\n",
       "      <td>0.999999</td>\n",
       "      <td>14.033335</td>\n",
       "      <td>0.681401</td>\n",
       "      <td>0.016039</td>\n",
       "      <td>0.451886</td>\n",
       "      <td>1.900433</td>\n",
       "      <td>1482.037476</td>\n",
       "      <td>0.066667</td>\n",
       "      <td>0.060602</td>\n",
       "      <td>0.083660</td>\n",
       "      <td>0.208855</td>\n",
       "      <td>0.074343</td>\n",
       "      <td>8</td>\n",
       "      <td>5</td>\n",
       "      <td>7</td>\n",
       "      <td>1.0</td>\n",
       "      <td>0.0</td>\n",
       "      <td>3.0</td>\n",
       "      <td>4.0</td>\n",
       "      <td>0.473952</td>\n",
       "      <td>0.349447</td>\n",
       "      <td>0.329157</td>\n",
       "      <td>-0.579324</td>\n",
       "      <td>-0.256309</td>\n",
       "      <td>-0.215444</td>\n",
       "      <td>-0.107570</td>\n",
       "      <td>1.921700</td>\n",
       "      <td>0.866657</td>\n",
       "      <td>1.230708</td>\n",
       "      <td>0.988054</td>\n",
       "      <td>0.601483</td>\n",
       "      <td>0.277090</td>\n",
       "      <td>16.243183</td>\n",
       "      <td>4.580875</td>\n",
       "      <td>5.939936</td>\n",
       "      <td>353.819733</td>\n",
       "      <td>448.369446</td>\n",
       "      <td>1393.246826</td>\n",
       "      <td>3842.096436</td>\n",
       "      <td>12290.760742</td>\n",
       "      <td>39264.398438</td>\n",
       "      <td>3.076006</td>\n",
       "      <td>4.003800</td>\n",
       "      <td>4.031514</td>\n",
       "      <td>458</td>\n",
       "      <td>-99</td>\n",
       "      <td>0</td>\n",
       "      <td>1866.300049</td>\n",
       "      <td>0.277559</td>\n",
       "    </tr>\n",
       "    <tr>\n",
       "      <th>1</th>\n",
       "      <td>5364094</td>\n",
       "      <td>0.000988</td>\n",
       "      <td>0.999705</td>\n",
       "      <td>5.536157</td>\n",
       "      <td>0.302341</td>\n",
       "      <td>0.142163</td>\n",
       "      <td>9.564503</td>\n",
       "      <td>0.865666</td>\n",
       "      <td>3050.720703</td>\n",
       "      <td>0.024022</td>\n",
       "      <td>0.019245</td>\n",
       "      <td>0.030784</td>\n",
       "      <td>0.336345</td>\n",
       "      <td>0.173161</td>\n",
       "      <td>7</td>\n",
       "      <td>12</td>\n",
       "      <td>2</td>\n",
       "      <td>0.0</td>\n",
       "      <td>1.0</td>\n",
       "      <td>1.0</td>\n",
       "      <td>2.0</td>\n",
       "      <td>0.325785</td>\n",
       "      <td>0.265939</td>\n",
       "      <td>0.192599</td>\n",
       "      <td>-0.873926</td>\n",
       "      <td>-0.223774</td>\n",
       "      <td>-0.224871</td>\n",
       "      <td>-0.425281</td>\n",
       "      <td>0.958776</td>\n",
       "      <td>0.858357</td>\n",
       "      <td>1.810709</td>\n",
       "      <td>0.098752</td>\n",
       "      <td>0.219099</td>\n",
       "      <td>0.614524</td>\n",
       "      <td>3.610463</td>\n",
       "      <td>15.555593</td>\n",
       "      <td>11.238523</td>\n",
       "      <td>656.524902</td>\n",
       "      <td>2033.918701</td>\n",
       "      <td>747.137024</td>\n",
       "      <td>8299.368164</td>\n",
       "      <td>16562.667969</td>\n",
       "      <td>7341.257812</td>\n",
       "      <td>3.228553</td>\n",
       "      <td>2.786543</td>\n",
       "      <td>2.975564</td>\n",
       "      <td>406</td>\n",
       "      <td>-99</td>\n",
       "      <td>0</td>\n",
       "      <td>1727.095947</td>\n",
       "      <td>0.225924</td>\n",
       "    </tr>\n",
       "    <tr>\n",
       "      <th>2</th>\n",
       "      <td>11130990</td>\n",
       "      <td>0.000877</td>\n",
       "      <td>0.999984</td>\n",
       "      <td>6.117302</td>\n",
       "      <td>0.276463</td>\n",
       "      <td>0.034746</td>\n",
       "      <td>1.970751</td>\n",
       "      <td>10.975849</td>\n",
       "      <td>3895.908691</td>\n",
       "      <td>0.055044</td>\n",
       "      <td>0.047947</td>\n",
       "      <td>0.096829</td>\n",
       "      <td>0.169165</td>\n",
       "      <td>0.079789</td>\n",
       "      <td>1</td>\n",
       "      <td>0</td>\n",
       "      <td>1</td>\n",
       "      <td>0.0</td>\n",
       "      <td>0.0</td>\n",
       "      <td>0.0</td>\n",
       "      <td>0.0</td>\n",
       "      <td>1.000000</td>\n",
       "      <td>0.786482</td>\n",
       "      <td>0.557760</td>\n",
       "      <td>-0.479636</td>\n",
       "      <td>-0.202451</td>\n",
       "      <td>-0.100762</td>\n",
       "      <td>-0.176424</td>\n",
       "      <td>0.720973</td>\n",
       "      <td>1.408519</td>\n",
       "      <td>1.038347</td>\n",
       "      <td>0.186143</td>\n",
       "      <td>0.215668</td>\n",
       "      <td>0.371820</td>\n",
       "      <td>4.851371</td>\n",
       "      <td>11.590331</td>\n",
       "      <td>13.723293</td>\n",
       "      <td>658.523743</td>\n",
       "      <td>2576.380615</td>\n",
       "      <td>963.652466</td>\n",
       "      <td>11323.134766</td>\n",
       "      <td>22695.388672</td>\n",
       "      <td>10225.309570</td>\n",
       "      <td>3.536903</td>\n",
       "      <td>2.865686</td>\n",
       "      <td>3.052810</td>\n",
       "      <td>196</td>\n",
       "      <td>-99</td>\n",
       "      <td>0</td>\n",
       "      <td>1898.588013</td>\n",
       "      <td>0.368630</td>\n",
       "    </tr>\n",
       "    <tr>\n",
       "      <th>3</th>\n",
       "      <td>15173787</td>\n",
       "      <td>0.000854</td>\n",
       "      <td>0.999903</td>\n",
       "      <td>5.228067</td>\n",
       "      <td>0.220739</td>\n",
       "      <td>0.076389</td>\n",
       "      <td>4.271331</td>\n",
       "      <td>3.276358</td>\n",
       "      <td>4010.781738</td>\n",
       "      <td>0.053779</td>\n",
       "      <td>0.006417</td>\n",
       "      <td>0.044816</td>\n",
       "      <td>0.050989</td>\n",
       "      <td>0.068167</td>\n",
       "      <td>2</td>\n",
       "      <td>2</td>\n",
       "      <td>4</td>\n",
       "      <td>0.0</td>\n",
       "      <td>0.0</td>\n",
       "      <td>0.0</td>\n",
       "      <td>0.0</td>\n",
       "      <td>1.000000</td>\n",
       "      <td>0.501195</td>\n",
       "      <td>0.501195</td>\n",
       "      <td>-0.439453</td>\n",
       "      <td>-0.162267</td>\n",
       "      <td>-0.176424</td>\n",
       "      <td>-0.100762</td>\n",
       "      <td>1.172767</td>\n",
       "      <td>2.044164</td>\n",
       "      <td>0.811454</td>\n",
       "      <td>0.255752</td>\n",
       "      <td>0.210698</td>\n",
       "      <td>0.392195</td>\n",
       "      <td>7.292110</td>\n",
       "      <td>8.778173</td>\n",
       "      <td>16.462036</td>\n",
       "      <td>1047.216187</td>\n",
       "      <td>1351.734131</td>\n",
       "      <td>1685.003662</td>\n",
       "      <td>11502.081055</td>\n",
       "      <td>16909.515625</td>\n",
       "      <td>9141.426758</td>\n",
       "      <td>3.087461</td>\n",
       "      <td>3.218034</td>\n",
       "      <td>2.375592</td>\n",
       "      <td>137</td>\n",
       "      <td>-99</td>\n",
       "      <td>0</td>\n",
       "      <td>1840.410034</td>\n",
       "      <td>0.246045</td>\n",
       "    </tr>\n",
       "    <tr>\n",
       "      <th>4</th>\n",
       "      <td>1102544</td>\n",
       "      <td>0.001129</td>\n",
       "      <td>0.999995</td>\n",
       "      <td>39.069534</td>\n",
       "      <td>1.898197</td>\n",
       "      <td>0.120936</td>\n",
       "      <td>4.984982</td>\n",
       "      <td>0.468348</td>\n",
       "      <td>4144.546875</td>\n",
       "      <td>0.004491</td>\n",
       "      <td>0.037326</td>\n",
       "      <td>0.019026</td>\n",
       "      <td>0.172065</td>\n",
       "      <td>0.131732</td>\n",
       "      <td>0</td>\n",
       "      <td>2</td>\n",
       "      <td>0</td>\n",
       "      <td>0.0</td>\n",
       "      <td>0.0</td>\n",
       "      <td>0.0</td>\n",
       "      <td>0.0</td>\n",
       "      <td>1.000000</td>\n",
       "      <td>1.000000</td>\n",
       "      <td>0.639926</td>\n",
       "      <td>-0.822285</td>\n",
       "      <td>-0.291524</td>\n",
       "      <td>-0.261078</td>\n",
       "      <td>-0.269682</td>\n",
       "      <td>1.523252</td>\n",
       "      <td>0.435325</td>\n",
       "      <td>0.581312</td>\n",
       "      <td>0.270755</td>\n",
       "      <td>0.183355</td>\n",
       "      <td>0.630763</td>\n",
       "      <td>6.783962</td>\n",
       "      <td>3.342091</td>\n",
       "      <td>17.252840</td>\n",
       "      <td>1442.538208</td>\n",
       "      <td>1755.792236</td>\n",
       "      <td>1282.428711</td>\n",
       "      <td>74117.117188</td>\n",
       "      <td>97612.804688</td>\n",
       "      <td>47118.785156</td>\n",
       "      <td>4.632295</td>\n",
       "      <td>4.711155</td>\n",
       "      <td>4.296878</td>\n",
       "      <td>477</td>\n",
       "      <td>-99</td>\n",
       "      <td>0</td>\n",
       "      <td>1899.793945</td>\n",
       "      <td>0.222060</td>\n",
       "    </tr>\n",
       "  </tbody>\n",
       "</table>\n",
       "</div>"
      ],
      "text/plain": [
       "         id  LifeTime      dira  FlightDistance  FlightDistanceError  \\\n",
       "0  18453471  0.001578  0.999999       14.033335             0.681401   \n",
       "1   5364094  0.000988  0.999705        5.536157             0.302341   \n",
       "2  11130990  0.000877  0.999984        6.117302             0.276463   \n",
       "3  15173787  0.000854  0.999903        5.228067             0.220739   \n",
       "4   1102544  0.001129  0.999995       39.069534             1.898197   \n",
       "\n",
       "         IP     IPSig  VertexChi2           pt   DOCAone   DOCAtwo  DOCAthree  \\\n",
       "0  0.016039  0.451886    1.900433  1482.037476  0.066667  0.060602   0.083660   \n",
       "1  0.142163  9.564503    0.865666  3050.720703  0.024022  0.019245   0.030784   \n",
       "2  0.034746  1.970751   10.975849  3895.908691  0.055044  0.047947   0.096829   \n",
       "3  0.076389  4.271331    3.276358  4010.781738  0.053779  0.006417   0.044816   \n",
       "4  0.120936  4.984982    0.468348  4144.546875  0.004491  0.037326   0.019026   \n",
       "\n",
       "    IP_p0p2   IP_p1p2  isolationa  isolationb  isolationc  isolationd  \\\n",
       "0  0.208855  0.074343           8           5           7         1.0   \n",
       "1  0.336345  0.173161           7          12           2         0.0   \n",
       "2  0.169165  0.079789           1           0           1         0.0   \n",
       "3  0.050989  0.068167           2           2           4         0.0   \n",
       "4  0.172065  0.131732           0           2           0         0.0   \n",
       "\n",
       "   isolatione  isolationf  iso      CDF1      CDF2      CDF3  ISO_SumBDT  \\\n",
       "0         0.0         3.0  4.0  0.473952  0.349447  0.329157   -0.579324   \n",
       "1         1.0         1.0  2.0  0.325785  0.265939  0.192599   -0.873926   \n",
       "2         0.0         0.0  0.0  1.000000  0.786482  0.557760   -0.479636   \n",
       "3         0.0         0.0  0.0  1.000000  0.501195  0.501195   -0.439453   \n",
       "4         0.0         0.0  0.0  1.000000  1.000000  0.639926   -0.822285   \n",
       "\n",
       "   p0_IsoBDT  p1_IsoBDT  p2_IsoBDT  p0_track_Chi2Dof  p1_track_Chi2Dof  \\\n",
       "0  -0.256309  -0.215444  -0.107570          1.921700          0.866657   \n",
       "1  -0.223774  -0.224871  -0.425281          0.958776          0.858357   \n",
       "2  -0.202451  -0.100762  -0.176424          0.720973          1.408519   \n",
       "3  -0.162267  -0.176424  -0.100762          1.172767          2.044164   \n",
       "4  -0.291524  -0.261078  -0.269682          1.523252          0.435325   \n",
       "\n",
       "   p2_track_Chi2Dof     p0_IP     p1_IP     p2_IP   p0_IPSig   p1_IPSig  \\\n",
       "0          1.230708  0.988054  0.601483  0.277090  16.243183   4.580875   \n",
       "1          1.810709  0.098752  0.219099  0.614524   3.610463  15.555593   \n",
       "2          1.038347  0.186143  0.215668  0.371820   4.851371  11.590331   \n",
       "3          0.811454  0.255752  0.210698  0.392195   7.292110   8.778173   \n",
       "4          0.581312  0.270755  0.183355  0.630763   6.783962   3.342091   \n",
       "\n",
       "    p2_IPSig        p0_pt        p1_pt        p2_pt          p0_p  \\\n",
       "0   5.939936   353.819733   448.369446  1393.246826   3842.096436   \n",
       "1  11.238523   656.524902  2033.918701   747.137024   8299.368164   \n",
       "2  13.723293   658.523743  2576.380615   963.652466  11323.134766   \n",
       "3  16.462036  1047.216187  1351.734131  1685.003662  11502.081055   \n",
       "4  17.252840  1442.538208  1755.792236  1282.428711  74117.117188   \n",
       "\n",
       "           p1_p          p2_p    p0_eta    p1_eta    p2_eta  SPDhits  \\\n",
       "0  12290.760742  39264.398438  3.076006  4.003800  4.031514      458   \n",
       "1  16562.667969   7341.257812  3.228553  2.786543  2.975564      406   \n",
       "2  22695.388672  10225.309570  3.536903  2.865686  3.052810      196   \n",
       "3  16909.515625   9141.426758  3.087461  3.218034  2.375592      137   \n",
       "4  97612.804688  47118.785156  4.632295  4.711155  4.296878      477   \n",
       "\n",
       "   production  signal         mass  min_ANNmuon  \n",
       "0         -99       0  1866.300049     0.277559  \n",
       "1         -99       0  1727.095947     0.225924  \n",
       "2         -99       0  1898.588013     0.368630  \n",
       "3         -99       0  1840.410034     0.246045  \n",
       "4         -99       0  1899.793945     0.222060  "
      ]
     },
     "execution_count": 3,
     "metadata": {},
     "output_type": "execute_result"
    }
   ],
   "source": [
    "train.head()"
   ]
  },
  {
   "cell_type": "code",
   "execution_count": 4,
   "metadata": {},
   "outputs": [
    {
     "name": "stdout",
     "output_type": "stream",
     "text": [
      "<class 'pandas.core.frame.DataFrame'>\n",
      "RangeIndex: 67553 entries, 0 to 67552\n",
      "Data columns (total 51 columns):\n",
      " #   Column               Non-Null Count  Dtype  \n",
      "---  ------               --------------  -----  \n",
      " 0   id                   67553 non-null  int64  \n",
      " 1   LifeTime             67553 non-null  float64\n",
      " 2   dira                 67553 non-null  float64\n",
      " 3   FlightDistance       67553 non-null  float64\n",
      " 4   FlightDistanceError  67553 non-null  float64\n",
      " 5   IP                   67553 non-null  float64\n",
      " 6   IPSig                67553 non-null  float64\n",
      " 7   VertexChi2           67553 non-null  float64\n",
      " 8   pt                   67553 non-null  float64\n",
      " 9   DOCAone              67553 non-null  float64\n",
      " 10  DOCAtwo              67553 non-null  float64\n",
      " 11  DOCAthree            67553 non-null  float64\n",
      " 12  IP_p0p2              67553 non-null  float64\n",
      " 13  IP_p1p2              67553 non-null  float64\n",
      " 14  isolationa           67553 non-null  int64  \n",
      " 15  isolationb           67553 non-null  int64  \n",
      " 16  isolationc           67553 non-null  int64  \n",
      " 17  isolationd           67553 non-null  float64\n",
      " 18  isolatione           67553 non-null  float64\n",
      " 19  isolationf           67553 non-null  float64\n",
      " 20  iso                  67553 non-null  float64\n",
      " 21  CDF1                 67553 non-null  float64\n",
      " 22  CDF2                 67553 non-null  float64\n",
      " 23  CDF3                 67553 non-null  float64\n",
      " 24  ISO_SumBDT           67553 non-null  float64\n",
      " 25  p0_IsoBDT            67553 non-null  float64\n",
      " 26  p1_IsoBDT            67553 non-null  float64\n",
      " 27  p2_IsoBDT            67553 non-null  float64\n",
      " 28  p0_track_Chi2Dof     67553 non-null  float64\n",
      " 29  p1_track_Chi2Dof     67553 non-null  float64\n",
      " 30  p2_track_Chi2Dof     67553 non-null  float64\n",
      " 31  p0_IP                67553 non-null  float64\n",
      " 32  p1_IP                67553 non-null  float64\n",
      " 33  p2_IP                67553 non-null  float64\n",
      " 34  p0_IPSig             67553 non-null  float64\n",
      " 35  p1_IPSig             67553 non-null  float64\n",
      " 36  p2_IPSig             67553 non-null  float64\n",
      " 37  p0_pt                67553 non-null  float64\n",
      " 38  p1_pt                67553 non-null  float64\n",
      " 39  p2_pt                67553 non-null  float64\n",
      " 40  p0_p                 67553 non-null  float64\n",
      " 41  p1_p                 67553 non-null  float64\n",
      " 42  p2_p                 67553 non-null  float64\n",
      " 43  p0_eta               67553 non-null  float64\n",
      " 44  p1_eta               67553 non-null  float64\n",
      " 45  p2_eta               67553 non-null  float64\n",
      " 46  SPDhits              67553 non-null  int64  \n",
      " 47  production           67553 non-null  int64  \n",
      " 48  signal               67553 non-null  int64  \n",
      " 49  mass                 67553 non-null  float64\n",
      " 50  min_ANNmuon          67553 non-null  float64\n",
      "dtypes: float64(44), int64(7)\n",
      "memory usage: 26.3 MB\n"
     ]
    }
   ],
   "source": [
    "train.info()"
   ]
  },
  {
   "cell_type": "markdown",
   "metadata": {},
   "source": [
    "##### Production\n"
   ]
  },
  {
   "cell_type": "code",
   "execution_count": 5,
   "metadata": {},
   "outputs": [
    {
     "data": {
      "text/plain": [
       "array([-99,   1,   4,   8,   9,   5,   2,   6,   3,   7,  10])"
      ]
     },
     "execution_count": 5,
     "metadata": {},
     "output_type": "execute_result"
    }
   ],
   "source": [
    "train[\"production\"].unique()"
   ]
  },
  {
   "cell_type": "code",
   "execution_count": 6,
   "metadata": {},
   "outputs": [
    {
     "data": {
      "image/png": "[encoded data removed]",
      "text/plain": [
       "<Figure size 640x480 with 1 Axes>"
      ]
     },
     "metadata": {},
     "output_type": "display_data"
    }
   ],
   "source": [
    "sns.histplot(train, x=\"production\", bins=100, hue=\"signal\")\n",
    "plt.show()"
   ]
  },
  {
   "cell_type": "markdown",
   "metadata": {},
   "source": [
    "##### Mass\n"
   ]
  },
  {
   "cell_type": "code",
   "execution_count": 7,
   "metadata": {},
   "outputs": [
    {
     "data": {
      "image/png": "[encoded data removed]",
      "text/plain": [
       "<Figure size 640x480 with 1 Axes>"
      ]
     },
     "metadata": {},
     "output_type": "display_data"
    }
   ],
   "source": [
    "sns.histplot(train, x=\"mass\", bins=100, hue=\"signal\")\n",
    "plt.xlim(1600, 1950)\n",
    "plt.show()"
   ]
  },
  {
   "cell_type": "markdown",
   "metadata": {},
   "source": [
    "É possível observar que a massa é uma característica essencial para o modelo separar o sinal do ruído.\n"
   ]
  },
  {
   "cell_type": "markdown",
   "metadata": {},
   "source": [
    "##### min_ANNmuon\n"
   ]
  },
  {
   "cell_type": "markdown",
   "metadata": {},
   "source": [
    "Muon identification. LHCb collaboration trains Artificial Neural Networks (ANN) from informations from RICH, ECAL, HCAL, Muon system to distinguish muons from other particles. This variables denotes the minimum of the three muons ANN. **min ANNmuon should not be used for training**. This variable is absent in the test samples\n"
   ]
  },
  {
   "cell_type": "code",
   "execution_count": 8,
   "metadata": {},
   "outputs": [
    {
     "data": {
      "image/png": "[encoded data removed]",
      "text/plain": [
       "<Figure size 640x480 with 1 Axes>"
      ]
     },
     "metadata": {},
     "output_type": "display_data"
    }
   ],
   "source": [
    "sns.histplot(train, x=\"min_ANNmuon\", bins=100, hue=\"signal\")\n",
    "plt.show()"
   ]
  },
  {
   "cell_type": "code",
   "execution_count": 9,
   "metadata": {},
   "outputs": [
    {
     "data": {
      "image/png": "[encoded data removed]",
      "text/plain": [
       "<Figure size 640x480 with 1 Axes>"
      ]
     },
     "metadata": {},
     "output_type": "display_data"
    }
   ],
   "source": [
    "cond_muon = train[\"min_ANNmuon\"] > 0.4\n",
    "sns.histplot(train[cond_muon], x=\"mass\", bins=100, hue=\"signal\")\n",
    "plt.xlim(1600, 1950)\n",
    "plt.show()"
   ]
  },
  {
   "cell_type": "markdown",
   "metadata": {},
   "source": [
    "#### features\n"
   ]
  },
  {
   "cell_type": "code",
   "execution_count": 10,
   "metadata": {},
   "outputs": [],
   "source": [
    "features = [\n",
    "    # Tau parameters\n",
    "    \"LifeTime\",  # Life time of tau candidate.\n",
    "    \"dira\",  # Cosine of the angle between the τ momentum and line between PV and tau vertex.\n",
    "    \"pt\",  # Transverse momentum of τ\n",
    "    \"FlightDistance\",  # Distance between τ and primary vertex (PV)\n",
    "    \"FlightDistanceError\",\n",
    "    \"VertexChi2\",\n",
    "    \"IP\",  # Impact Parameter of tau candidate.\n",
    "    \"IPSig\",  # Significance of Impact Parameter\n",
    "    \"mass\",\n",
    "    # Muons parameters\n",
    "    ## Impact\n",
    "    \"p0_IP\",\n",
    "    \"p1_IP\",\n",
    "    \"p2_IP\",\n",
    "    \"p0_IPSig\",\n",
    "    \"p1_IPSig\",\n",
    "    \"p2_IPSig\",\n",
    "    \"IP_p0p2\",  # Impact parameter of the p0 and p2 pair.\n",
    "    \"IP_p1p2\",\n",
    "    ## Kinematics\n",
    "    \"p0_pt\",  # Transverse momentum\n",
    "    \"p1_pt\",\n",
    "    \"p2_pt\",\n",
    "    \"p0_p\",  # Momentum\n",
    "    \"p1_p\",\n",
    "    \"p2_p\",\n",
    "    \"p0_eta\",  # Pseudorapidity\n",
    "    \"p1_eta\",\n",
    "    \"p2_eta\",\n",
    "    \"DOCAone\",  # Distance of Closest Approach between p0 and p1\n",
    "    \"DOCAthree\",\n",
    "    \"DOCAtwo\",\n",
    "    # \"SPDhits\",  # Hits in the SPD (Spin Physics Detector)\n",
    "    ## Track\n",
    "    \"iso\",  # Track isolation variable.\n",
    "    \"isolationa\",\n",
    "    \"isolationb\",\n",
    "    \"isolationc\",\n",
    "    \"isolationd\",\n",
    "    \"isolatione\",\n",
    "    \"isolationf\",\n",
    "    \"ISO_SumBDT\",\n",
    "    \"p0_IsoBDT\",\n",
    "    \"p1_IsoBDT\",\n",
    "    \"p2_IsoBDT\",\n",
    "    \"p0_track_Chi2Dof\",  #  Quality of p0 muon track.\n",
    "    \"p1_track_Chi2Dof\",\n",
    "    \"p2_track_Chi2Dof\",\n",
    "    ## Cone\n",
    "    \"CDF1\",  # Cone isolation variable\n",
    "    \"CDF2\",\n",
    "    \"CDF3\",\n",
    "]\n",
    "\n",
    "aux_features = [\n",
    "    \"production\",\n",
    "    \"signal\",\n",
    "    \"id\",\n",
    "    \"min_ANNmuon\",\n",
    "]"
   ]
  },
  {
   "cell_type": "code",
   "execution_count": 11,
   "metadata": {},
   "outputs": [
    {
     "data": {
      "text/plain": [
       "46"
      ]
     },
     "execution_count": 11,
     "metadata": {},
     "output_type": "execute_result"
    }
   ],
   "source": [
    "len(features)"
   ]
  },
  {
   "cell_type": "markdown",
   "metadata": {},
   "source": [
    "### test.csv\n"
   ]
  },
  {
   "cell_type": "markdown",
   "metadata": {},
   "source": [
    "- signal\n",
    "- mass\n",
    "- min_ANNmuon\n",
    "- production\n"
   ]
  },
  {
   "cell_type": "code",
   "execution_count": 12,
   "metadata": {},
   "outputs": [
    {
     "data": {
      "text/html": [
       "<div>\n",
       "<style scoped>\n",
       "    .dataframe tbody tr th:only-of-type {\n",
       "        vertical-align: middle;\n",
       "    }\n",
       "\n",
       "    .dataframe tbody tr th {\n",
       "        vertical-align: top;\n",
       "    }\n",
       "\n",
       "    .dataframe thead th {\n",
       "        text-align: right;\n",
       "    }\n",
       "</style>\n",
       "<table border=\"1\" class=\"dataframe\">\n",
       "  <thead>\n",
       "    <tr style=\"text-align: right;\">\n",
       "      <th></th>\n",
       "      <th>id</th>\n",
       "      <th>LifeTime</th>\n",
       "      <th>dira</th>\n",
       "      <th>FlightDistance</th>\n",
       "      <th>FlightDistanceError</th>\n",
       "      <th>IP</th>\n",
       "      <th>IPSig</th>\n",
       "      <th>VertexChi2</th>\n",
       "      <th>pt</th>\n",
       "      <th>DOCAone</th>\n",
       "      <th>DOCAtwo</th>\n",
       "      <th>DOCAthree</th>\n",
       "      <th>IP_p0p2</th>\n",
       "      <th>IP_p1p2</th>\n",
       "      <th>isolationa</th>\n",
       "      <th>isolationb</th>\n",
       "      <th>isolationc</th>\n",
       "      <th>isolationd</th>\n",
       "      <th>isolatione</th>\n",
       "      <th>isolationf</th>\n",
       "      <th>iso</th>\n",
       "      <th>CDF1</th>\n",
       "      <th>CDF2</th>\n",
       "      <th>CDF3</th>\n",
       "      <th>ISO_SumBDT</th>\n",
       "      <th>p0_IsoBDT</th>\n",
       "      <th>p1_IsoBDT</th>\n",
       "      <th>p2_IsoBDT</th>\n",
       "      <th>p0_track_Chi2Dof</th>\n",
       "      <th>p1_track_Chi2Dof</th>\n",
       "      <th>p2_track_Chi2Dof</th>\n",
       "      <th>p0_IP</th>\n",
       "      <th>p1_IP</th>\n",
       "      <th>p2_IP</th>\n",
       "      <th>p0_IPSig</th>\n",
       "      <th>p1_IPSig</th>\n",
       "      <th>p2_IPSig</th>\n",
       "      <th>p0_pt</th>\n",
       "      <th>p1_pt</th>\n",
       "      <th>p2_pt</th>\n",
       "      <th>p0_p</th>\n",
       "      <th>p1_p</th>\n",
       "      <th>p2_p</th>\n",
       "      <th>p0_eta</th>\n",
       "      <th>p1_eta</th>\n",
       "      <th>p2_eta</th>\n",
       "      <th>SPDhits</th>\n",
       "    </tr>\n",
       "  </thead>\n",
       "  <tbody>\n",
       "    <tr>\n",
       "      <th>0</th>\n",
       "      <td>14711831</td>\n",
       "      <td>0.001273</td>\n",
       "      <td>0.999816</td>\n",
       "      <td>8.569642</td>\n",
       "      <td>0.310039</td>\n",
       "      <td>0.197893</td>\n",
       "      <td>5.183939</td>\n",
       "      <td>2.286117</td>\n",
       "      <td>687.479248</td>\n",
       "      <td>0.022301</td>\n",
       "      <td>0.050763</td>\n",
       "      <td>0.124735</td>\n",
       "      <td>0.148945</td>\n",
       "      <td>0.065997</td>\n",
       "      <td>0</td>\n",
       "      <td>1</td>\n",
       "      <td>4</td>\n",
       "      <td>2.0</td>\n",
       "      <td>2.0</td>\n",
       "      <td>0.0</td>\n",
       "      <td>4.0</td>\n",
       "      <td>0.448872</td>\n",
       "      <td>0.411983</td>\n",
       "      <td>0.141371</td>\n",
       "      <td>-0.751272</td>\n",
       "      <td>-0.145808</td>\n",
       "      <td>-0.280569</td>\n",
       "      <td>-0.324895</td>\n",
       "      <td>0.753610</td>\n",
       "      <td>1.846906</td>\n",
       "      <td>1.031751</td>\n",
       "      <td>0.329494</td>\n",
       "      <td>0.872634</td>\n",
       "      <td>0.686377</td>\n",
       "      <td>3.465280</td>\n",
       "      <td>10.841214</td>\n",
       "      <td>22.478136</td>\n",
       "      <td>508.926514</td>\n",
       "      <td>306.629456</td>\n",
       "      <td>714.222717</td>\n",
       "      <td>30300.734375</td>\n",
       "      <td>5662.158691</td>\n",
       "      <td>7406.368164</td>\n",
       "      <td>4.779700</td>\n",
       "      <td>3.608334</td>\n",
       "      <td>3.029715</td>\n",
       "      <td>705</td>\n",
       "    </tr>\n",
       "    <tr>\n",
       "      <th>1</th>\n",
       "      <td>16316387</td>\n",
       "      <td>0.000661</td>\n",
       "      <td>0.999954</td>\n",
       "      <td>7.061379</td>\n",
       "      <td>0.348772</td>\n",
       "      <td>0.067430</td>\n",
       "      <td>6.316281</td>\n",
       "      <td>3.865824</td>\n",
       "      <td>5691.845703</td>\n",
       "      <td>0.002455</td>\n",
       "      <td>0.037633</td>\n",
       "      <td>0.005614</td>\n",
       "      <td>0.116943</td>\n",
       "      <td>0.117106</td>\n",
       "      <td>19</td>\n",
       "      <td>6</td>\n",
       "      <td>9</td>\n",
       "      <td>3.0</td>\n",
       "      <td>0.0</td>\n",
       "      <td>3.0</td>\n",
       "      <td>6.0</td>\n",
       "      <td>0.389287</td>\n",
       "      <td>0.187060</td>\n",
       "      <td>0.076054</td>\n",
       "      <td>-0.347637</td>\n",
       "      <td>-0.115879</td>\n",
       "      <td>-0.115879</td>\n",
       "      <td>-0.115879</td>\n",
       "      <td>2.076739</td>\n",
       "      <td>1.069274</td>\n",
       "      <td>1.009442</td>\n",
       "      <td>0.457204</td>\n",
       "      <td>0.150543</td>\n",
       "      <td>0.165927</td>\n",
       "      <td>13.728366</td>\n",
       "      <td>10.874161</td>\n",
       "      <td>8.310439</td>\n",
       "      <td>943.130676</td>\n",
       "      <td>3287.291260</td>\n",
       "      <td>1563.593994</td>\n",
       "      <td>6160.323730</td>\n",
       "      <td>43781.566406</td>\n",
       "      <td>19728.500000</td>\n",
       "      <td>2.563915</td>\n",
       "      <td>3.280884</td>\n",
       "      <td>3.226650</td>\n",
       "      <td>907</td>\n",
       "    </tr>\n",
       "    <tr>\n",
       "      <th>2</th>\n",
       "      <td>6771382</td>\n",
       "      <td>0.000889</td>\n",
       "      <td>0.999999</td>\n",
       "      <td>6.502967</td>\n",
       "      <td>0.273914</td>\n",
       "      <td>0.011020</td>\n",
       "      <td>0.865816</td>\n",
       "      <td>1.004631</td>\n",
       "      <td>5429.225586</td>\n",
       "      <td>0.002753</td>\n",
       "      <td>0.036379</td>\n",
       "      <td>0.040004</td>\n",
       "      <td>0.110153</td>\n",
       "      <td>0.183199</td>\n",
       "      <td>0</td>\n",
       "      <td>3</td>\n",
       "      <td>1</td>\n",
       "      <td>0.0</td>\n",
       "      <td>0.0</td>\n",
       "      <td>0.0</td>\n",
       "      <td>0.0</td>\n",
       "      <td>1.000000</td>\n",
       "      <td>0.960757</td>\n",
       "      <td>0.960757</td>\n",
       "      <td>-0.777667</td>\n",
       "      <td>-0.222446</td>\n",
       "      <td>-0.222446</td>\n",
       "      <td>-0.332776</td>\n",
       "      <td>1.194183</td>\n",
       "      <td>0.710145</td>\n",
       "      <td>1.094024</td>\n",
       "      <td>0.162487</td>\n",
       "      <td>0.199006</td>\n",
       "      <td>0.564369</td>\n",
       "      <td>9.725705</td>\n",
       "      <td>13.215377</td>\n",
       "      <td>11.707615</td>\n",
       "      <td>2886.055908</td>\n",
       "      <td>2216.936279</td>\n",
       "      <td>598.068359</td>\n",
       "      <td>26387.134766</td>\n",
       "      <td>15534.978516</td>\n",
       "      <td>6504.145020</td>\n",
       "      <td>2.903129</td>\n",
       "      <td>2.634985</td>\n",
       "      <td>3.077517</td>\n",
       "      <td>213</td>\n",
       "    </tr>\n",
       "    <tr>\n",
       "      <th>3</th>\n",
       "      <td>686045</td>\n",
       "      <td>0.001295</td>\n",
       "      <td>0.999301</td>\n",
       "      <td>7.838184</td>\n",
       "      <td>0.325697</td>\n",
       "      <td>0.388636</td>\n",
       "      <td>11.391245</td>\n",
       "      <td>10.345356</td>\n",
       "      <td>661.717834</td>\n",
       "      <td>0.008163</td>\n",
       "      <td>0.436003</td>\n",
       "      <td>0.188972</td>\n",
       "      <td>0.458021</td>\n",
       "      <td>0.551724</td>\n",
       "      <td>9</td>\n",
       "      <td>5</td>\n",
       "      <td>1</td>\n",
       "      <td>2.0</td>\n",
       "      <td>0.0</td>\n",
       "      <td>1.0</td>\n",
       "      <td>3.0</td>\n",
       "      <td>0.352854</td>\n",
       "      <td>0.143209</td>\n",
       "      <td>0.137221</td>\n",
       "      <td>-0.482896</td>\n",
       "      <td>-0.084681</td>\n",
       "      <td>-0.100762</td>\n",
       "      <td>-0.297453</td>\n",
       "      <td>1.512858</td>\n",
       "      <td>1.091243</td>\n",
       "      <td>1.011030</td>\n",
       "      <td>0.656599</td>\n",
       "      <td>0.304019</td>\n",
       "      <td>0.801548</td>\n",
       "      <td>17.860973</td>\n",
       "      <td>3.498727</td>\n",
       "      <td>16.569244</td>\n",
       "      <td>461.727753</td>\n",
       "      <td>357.967560</td>\n",
       "      <td>1118.084229</td>\n",
       "      <td>5451.857422</td>\n",
       "      <td>10281.403320</td>\n",
       "      <td>23722.742188</td>\n",
       "      <td>3.160085</td>\n",
       "      <td>4.050494</td>\n",
       "      <td>3.747409</td>\n",
       "      <td>275</td>\n",
       "    </tr>\n",
       "    <tr>\n",
       "      <th>4</th>\n",
       "      <td>8755882</td>\n",
       "      <td>0.001714</td>\n",
       "      <td>0.999805</td>\n",
       "      <td>7.064559</td>\n",
       "      <td>0.113440</td>\n",
       "      <td>0.154421</td>\n",
       "      <td>13.925871</td>\n",
       "      <td>12.951378</td>\n",
       "      <td>3885.417969</td>\n",
       "      <td>0.066317</td>\n",
       "      <td>0.052183</td>\n",
       "      <td>0.029873</td>\n",
       "      <td>0.376774</td>\n",
       "      <td>0.412828</td>\n",
       "      <td>13</td>\n",
       "      <td>6</td>\n",
       "      <td>6</td>\n",
       "      <td>0.0</td>\n",
       "      <td>2.0</td>\n",
       "      <td>1.0</td>\n",
       "      <td>3.0</td>\n",
       "      <td>0.313903</td>\n",
       "      <td>0.250328</td>\n",
       "      <td>0.240195</td>\n",
       "      <td>-0.451658</td>\n",
       "      <td>-0.115879</td>\n",
       "      <td>-0.183488</td>\n",
       "      <td>-0.152291</td>\n",
       "      <td>1.555909</td>\n",
       "      <td>1.221972</td>\n",
       "      <td>1.544137</td>\n",
       "      <td>0.546148</td>\n",
       "      <td>0.417822</td>\n",
       "      <td>0.828005</td>\n",
       "      <td>44.483707</td>\n",
       "      <td>24.498425</td>\n",
       "      <td>20.247360</td>\n",
       "      <td>1773.747925</td>\n",
       "      <td>1643.278198</td>\n",
       "      <td>711.572205</td>\n",
       "      <td>7724.954590</td>\n",
       "      <td>12830.546875</td>\n",
       "      <td>6008.145996</td>\n",
       "      <td>2.151059</td>\n",
       "      <td>2.744157</td>\n",
       "      <td>2.823017</td>\n",
       "      <td>357</td>\n",
       "    </tr>\n",
       "  </tbody>\n",
       "</table>\n",
       "</div>"
      ],
      "text/plain": [
       "         id  LifeTime      dira  FlightDistance  FlightDistanceError  \\\n",
       "0  14711831  0.001273  0.999816        8.569642             0.310039   \n",
       "1  16316387  0.000661  0.999954        7.061379             0.348772   \n",
       "2   6771382  0.000889  0.999999        6.502967             0.273914   \n",
       "3    686045  0.001295  0.999301        7.838184             0.325697   \n",
       "4   8755882  0.001714  0.999805        7.064559             0.113440   \n",
       "\n",
       "         IP      IPSig  VertexChi2           pt   DOCAone   DOCAtwo  \\\n",
       "0  0.197893   5.183939    2.286117   687.479248  0.022301  0.050763   \n",
       "1  0.067430   6.316281    3.865824  5691.845703  0.002455  0.037633   \n",
       "2  0.011020   0.865816    1.004631  5429.225586  0.002753  0.036379   \n",
       "3  0.388636  11.391245   10.345356   661.717834  0.008163  0.436003   \n",
       "4  0.154421  13.925871   12.951378  3885.417969  0.066317  0.052183   \n",
       "\n",
       "   DOCAthree   IP_p0p2   IP_p1p2  isolationa  isolationb  isolationc  \\\n",
       "0   0.124735  0.148945  0.065997           0           1           4   \n",
       "1   0.005614  0.116943  0.117106          19           6           9   \n",
       "2   0.040004  0.110153  0.183199           0           3           1   \n",
       "3   0.188972  0.458021  0.551724           9           5           1   \n",
       "4   0.029873  0.376774  0.412828          13           6           6   \n",
       "\n",
       "   isolationd  isolatione  isolationf  iso      CDF1      CDF2      CDF3  \\\n",
       "0         2.0         2.0         0.0  4.0  0.448872  0.411983  0.141371   \n",
       "1         3.0         0.0         3.0  6.0  0.389287  0.187060  0.076054   \n",
       "2         0.0         0.0         0.0  0.0  1.000000  0.960757  0.960757   \n",
       "3         2.0         0.0         1.0  3.0  0.352854  0.143209  0.137221   \n",
       "4         0.0         2.0         1.0  3.0  0.313903  0.250328  0.240195   \n",
       "\n",
       "   ISO_SumBDT  p0_IsoBDT  p1_IsoBDT  p2_IsoBDT  p0_track_Chi2Dof  \\\n",
       "0   -0.751272  -0.145808  -0.280569  -0.324895          0.753610   \n",
       "1   -0.347637  -0.115879  -0.115879  -0.115879          2.076739   \n",
       "2   -0.777667  -0.222446  -0.222446  -0.332776          1.194183   \n",
       "3   -0.482896  -0.084681  -0.100762  -0.297453          1.512858   \n",
       "4   -0.451658  -0.115879  -0.183488  -0.152291          1.555909   \n",
       "\n",
       "   p1_track_Chi2Dof  p2_track_Chi2Dof     p0_IP     p1_IP     p2_IP  \\\n",
       "0          1.846906          1.031751  0.329494  0.872634  0.686377   \n",
       "1          1.069274          1.009442  0.457204  0.150543  0.165927   \n",
       "2          0.710145          1.094024  0.162487  0.199006  0.564369   \n",
       "3          1.091243          1.011030  0.656599  0.304019  0.801548   \n",
       "4          1.221972          1.544137  0.546148  0.417822  0.828005   \n",
       "\n",
       "    p0_IPSig   p1_IPSig   p2_IPSig        p0_pt        p1_pt        p2_pt  \\\n",
       "0   3.465280  10.841214  22.478136   508.926514   306.629456   714.222717   \n",
       "1  13.728366  10.874161   8.310439   943.130676  3287.291260  1563.593994   \n",
       "2   9.725705  13.215377  11.707615  2886.055908  2216.936279   598.068359   \n",
       "3  17.860973   3.498727  16.569244   461.727753   357.967560  1118.084229   \n",
       "4  44.483707  24.498425  20.247360  1773.747925  1643.278198   711.572205   \n",
       "\n",
       "           p0_p          p1_p          p2_p    p0_eta    p1_eta    p2_eta  \\\n",
       "0  30300.734375   5662.158691   7406.368164  4.779700  3.608334  3.029715   \n",
       "1   6160.323730  43781.566406  19728.500000  2.563915  3.280884  3.226650   \n",
       "2  26387.134766  15534.978516   6504.145020  2.903129  2.634985  3.077517   \n",
       "3   5451.857422  10281.403320  23722.742188  3.160085  4.050494  3.747409   \n",
       "4   7724.954590  12830.546875   6008.145996  2.151059  2.744157  2.823017   \n",
       "\n",
       "   SPDhits  \n",
       "0      705  \n",
       "1      907  \n",
       "2      213  \n",
       "3      275  \n",
       "4      357  "
      ]
     },
     "execution_count": 12,
     "metadata": {},
     "output_type": "execute_result"
    }
   ],
   "source": [
    "test.head()"
   ]
  },
  {
   "cell_type": "code",
   "execution_count": 13,
   "metadata": {},
   "outputs": [
    {
     "data": {
      "text/plain": [
       "47"
      ]
     },
     "execution_count": 13,
     "metadata": {},
     "output_type": "execute_result"
    }
   ],
   "source": [
    "test.shape[1]"
   ]
  },
  {
   "cell_type": "markdown",
   "metadata": {},
   "source": [
    "### check_agreement.csv\n"
   ]
  },
  {
   "cell_type": "markdown",
   "metadata": {},
   "source": [
    "- production\n",
    "- mass\n",
    "- min_ANNmuon\n"
   ]
  },
  {
   "cell_type": "code",
   "execution_count": 14,
   "metadata": {},
   "outputs": [
    {
     "data": {
      "text/html": [
       "<div>\n",
       "<style scoped>\n",
       "    .dataframe tbody tr th:only-of-type {\n",
       "        vertical-align: middle;\n",
       "    }\n",
       "\n",
       "    .dataframe tbody tr th {\n",
       "        vertical-align: top;\n",
       "    }\n",
       "\n",
       "    .dataframe thead th {\n",
       "        text-align: right;\n",
       "    }\n",
       "</style>\n",
       "<table border=\"1\" class=\"dataframe\">\n",
       "  <thead>\n",
       "    <tr style=\"text-align: right;\">\n",
       "      <th></th>\n",
       "      <th>id</th>\n",
       "      <th>LifeTime</th>\n",
       "      <th>dira</th>\n",
       "      <th>FlightDistance</th>\n",
       "      <th>FlightDistanceError</th>\n",
       "      <th>IP</th>\n",
       "      <th>IPSig</th>\n",
       "      <th>VertexChi2</th>\n",
       "      <th>pt</th>\n",
       "      <th>DOCAone</th>\n",
       "      <th>DOCAtwo</th>\n",
       "      <th>DOCAthree</th>\n",
       "      <th>IP_p0p2</th>\n",
       "      <th>IP_p1p2</th>\n",
       "      <th>isolationa</th>\n",
       "      <th>isolationb</th>\n",
       "      <th>isolationc</th>\n",
       "      <th>isolationd</th>\n",
       "      <th>isolatione</th>\n",
       "      <th>isolationf</th>\n",
       "      <th>iso</th>\n",
       "      <th>CDF1</th>\n",
       "      <th>CDF2</th>\n",
       "      <th>CDF3</th>\n",
       "      <th>ISO_SumBDT</th>\n",
       "      <th>p0_IsoBDT</th>\n",
       "      <th>p1_IsoBDT</th>\n",
       "      <th>p2_IsoBDT</th>\n",
       "      <th>p0_track_Chi2Dof</th>\n",
       "      <th>p1_track_Chi2Dof</th>\n",
       "      <th>p2_track_Chi2Dof</th>\n",
       "      <th>p0_IP</th>\n",
       "      <th>p1_IP</th>\n",
       "      <th>p2_IP</th>\n",
       "      <th>p0_IPSig</th>\n",
       "      <th>p1_IPSig</th>\n",
       "      <th>p2_IPSig</th>\n",
       "      <th>p0_pt</th>\n",
       "      <th>p1_pt</th>\n",
       "      <th>p2_pt</th>\n",
       "      <th>p0_p</th>\n",
       "      <th>p1_p</th>\n",
       "      <th>p2_p</th>\n",
       "      <th>p0_eta</th>\n",
       "      <th>p1_eta</th>\n",
       "      <th>p2_eta</th>\n",
       "      <th>SPDhits</th>\n",
       "      <th>signal</th>\n",
       "      <th>weight</th>\n",
       "    </tr>\n",
       "  </thead>\n",
       "  <tbody>\n",
       "    <tr>\n",
       "      <th>0</th>\n",
       "      <td>15347063</td>\n",
       "      <td>0.001451</td>\n",
       "      <td>0.999964</td>\n",
       "      <td>6.945030</td>\n",
       "      <td>0.229196</td>\n",
       "      <td>0.058117</td>\n",
       "      <td>2.961298</td>\n",
       "      <td>7.953543</td>\n",
       "      <td>2251.611816</td>\n",
       "      <td>0.082219</td>\n",
       "      <td>0.084005</td>\n",
       "      <td>0.066887</td>\n",
       "      <td>0.185107</td>\n",
       "      <td>0.214719</td>\n",
       "      <td>8</td>\n",
       "      <td>6</td>\n",
       "      <td>1</td>\n",
       "      <td>2.0</td>\n",
       "      <td>1.0</td>\n",
       "      <td>1.0</td>\n",
       "      <td>4.0</td>\n",
       "      <td>0.732076</td>\n",
       "      <td>0.492269</td>\n",
       "      <td>0.179091</td>\n",
       "      <td>-0.207475</td>\n",
       "      <td>-0.019306</td>\n",
       "      <td>-0.089797</td>\n",
       "      <td>-0.098372</td>\n",
       "      <td>0.606178</td>\n",
       "      <td>0.862549</td>\n",
       "      <td>1.487057</td>\n",
       "      <td>0.483199</td>\n",
       "      <td>0.474925</td>\n",
       "      <td>0.426797</td>\n",
       "      <td>24.701061</td>\n",
       "      <td>10.732132</td>\n",
       "      <td>8.853514</td>\n",
       "      <td>1438.064697</td>\n",
       "      <td>468.645721</td>\n",
       "      <td>834.562378</td>\n",
       "      <td>10392.814453</td>\n",
       "      <td>6380.673828</td>\n",
       "      <td>15195.594727</td>\n",
       "      <td>2.666142</td>\n",
       "      <td>3.302978</td>\n",
       "      <td>3.594246</td>\n",
       "      <td>512</td>\n",
       "      <td>0</td>\n",
       "      <td>-0.307813</td>\n",
       "    </tr>\n",
       "    <tr>\n",
       "      <th>1</th>\n",
       "      <td>14383299</td>\n",
       "      <td>0.000679</td>\n",
       "      <td>0.999818</td>\n",
       "      <td>9.468235</td>\n",
       "      <td>0.517488</td>\n",
       "      <td>0.189683</td>\n",
       "      <td>14.413060</td>\n",
       "      <td>7.141451</td>\n",
       "      <td>10594.470703</td>\n",
       "      <td>0.007983</td>\n",
       "      <td>0.044154</td>\n",
       "      <td>0.001321</td>\n",
       "      <td>0.039357</td>\n",
       "      <td>0.217507</td>\n",
       "      <td>5</td>\n",
       "      <td>6</td>\n",
       "      <td>17</td>\n",
       "      <td>1.0</td>\n",
       "      <td>1.0</td>\n",
       "      <td>1.0</td>\n",
       "      <td>3.0</td>\n",
       "      <td>0.802508</td>\n",
       "      <td>0.605835</td>\n",
       "      <td>0.584701</td>\n",
       "      <td>-0.659644</td>\n",
       "      <td>-0.278330</td>\n",
       "      <td>-0.186370</td>\n",
       "      <td>-0.194944</td>\n",
       "      <td>1.900118</td>\n",
       "      <td>1.073474</td>\n",
       "      <td>1.336784</td>\n",
       "      <td>0.712242</td>\n",
       "      <td>0.260311</td>\n",
       "      <td>0.123877</td>\n",
       "      <td>11.312134</td>\n",
       "      <td>16.435398</td>\n",
       "      <td>7.737038</td>\n",
       "      <td>316.791351</td>\n",
       "      <td>7547.703613</td>\n",
       "      <td>2861.309814</td>\n",
       "      <td>3174.356934</td>\n",
       "      <td>64480.023438</td>\n",
       "      <td>23134.953125</td>\n",
       "      <td>2.995265</td>\n",
       "      <td>2.834816</td>\n",
       "      <td>2.779366</td>\n",
       "      <td>552</td>\n",
       "      <td>0</td>\n",
       "      <td>-0.331421</td>\n",
       "    </tr>\n",
       "    <tr>\n",
       "      <th>2</th>\n",
       "      <td>7382797</td>\n",
       "      <td>0.003027</td>\n",
       "      <td>0.999847</td>\n",
       "      <td>13.280714</td>\n",
       "      <td>0.219291</td>\n",
       "      <td>0.231709</td>\n",
       "      <td>11.973175</td>\n",
       "      <td>4.778880</td>\n",
       "      <td>2502.196289</td>\n",
       "      <td>0.045085</td>\n",
       "      <td>0.106614</td>\n",
       "      <td>0.005850</td>\n",
       "      <td>0.335788</td>\n",
       "      <td>0.885080</td>\n",
       "      <td>2</td>\n",
       "      <td>2</td>\n",
       "      <td>1</td>\n",
       "      <td>0.0</td>\n",
       "      <td>0.0</td>\n",
       "      <td>1.0</td>\n",
       "      <td>1.0</td>\n",
       "      <td>0.682607</td>\n",
       "      <td>0.682607</td>\n",
       "      <td>0.295038</td>\n",
       "      <td>-0.399239</td>\n",
       "      <td>-0.115879</td>\n",
       "      <td>-0.131069</td>\n",
       "      <td>-0.152291</td>\n",
       "      <td>0.660675</td>\n",
       "      <td>1.683084</td>\n",
       "      <td>0.798658</td>\n",
       "      <td>0.381544</td>\n",
       "      <td>1.163556</td>\n",
       "      <td>1.290409</td>\n",
       "      <td>16.435801</td>\n",
       "      <td>20.686119</td>\n",
       "      <td>44.521961</td>\n",
       "      <td>1887.477905</td>\n",
       "      <td>317.579529</td>\n",
       "      <td>932.128235</td>\n",
       "      <td>15219.761719</td>\n",
       "      <td>3921.181641</td>\n",
       "      <td>10180.791016</td>\n",
       "      <td>2.776633</td>\n",
       "      <td>3.204923</td>\n",
       "      <td>3.081832</td>\n",
       "      <td>318</td>\n",
       "      <td>0</td>\n",
       "      <td>-0.382215</td>\n",
       "    </tr>\n",
       "    <tr>\n",
       "      <th>3</th>\n",
       "      <td>6751065</td>\n",
       "      <td>0.000810</td>\n",
       "      <td>0.999998</td>\n",
       "      <td>5.166821</td>\n",
       "      <td>0.167886</td>\n",
       "      <td>0.011298</td>\n",
       "      <td>0.891142</td>\n",
       "      <td>5.528002</td>\n",
       "      <td>5097.813965</td>\n",
       "      <td>0.055115</td>\n",
       "      <td>0.038642</td>\n",
       "      <td>0.003864</td>\n",
       "      <td>0.076522</td>\n",
       "      <td>0.068347</td>\n",
       "      <td>4</td>\n",
       "      <td>4</td>\n",
       "      <td>3</td>\n",
       "      <td>0.0</td>\n",
       "      <td>0.0</td>\n",
       "      <td>0.0</td>\n",
       "      <td>0.0</td>\n",
       "      <td>0.533615</td>\n",
       "      <td>0.533615</td>\n",
       "      <td>0.533615</td>\n",
       "      <td>-0.821041</td>\n",
       "      <td>-0.208248</td>\n",
       "      <td>-0.177802</td>\n",
       "      <td>-0.434991</td>\n",
       "      <td>0.770563</td>\n",
       "      <td>1.093031</td>\n",
       "      <td>0.938619</td>\n",
       "      <td>0.564650</td>\n",
       "      <td>0.164411</td>\n",
       "      <td>0.166646</td>\n",
       "      <td>24.878387</td>\n",
       "      <td>7.873435</td>\n",
       "      <td>9.630725</td>\n",
       "      <td>975.041687</td>\n",
       "      <td>1650.837524</td>\n",
       "      <td>2617.248291</td>\n",
       "      <td>4365.082520</td>\n",
       "      <td>13221.149414</td>\n",
       "      <td>24291.875000</td>\n",
       "      <td>2.179345</td>\n",
       "      <td>2.769762</td>\n",
       "      <td>2.918251</td>\n",
       "      <td>290</td>\n",
       "      <td>0</td>\n",
       "      <td>1.465194</td>\n",
       "    </tr>\n",
       "    <tr>\n",
       "      <th>4</th>\n",
       "      <td>9439580</td>\n",
       "      <td>0.000706</td>\n",
       "      <td>0.999896</td>\n",
       "      <td>10.897236</td>\n",
       "      <td>0.284975</td>\n",
       "      <td>0.160511</td>\n",
       "      <td>16.367550</td>\n",
       "      <td>8.670339</td>\n",
       "      <td>20388.097656</td>\n",
       "      <td>0.015587</td>\n",
       "      <td>0.020872</td>\n",
       "      <td>0.014612</td>\n",
       "      <td>0.249906</td>\n",
       "      <td>0.139937</td>\n",
       "      <td>0</td>\n",
       "      <td>1</td>\n",
       "      <td>0</td>\n",
       "      <td>0.0</td>\n",
       "      <td>0.0</td>\n",
       "      <td>0.0</td>\n",
       "      <td>0.0</td>\n",
       "      <td>0.926410</td>\n",
       "      <td>0.926410</td>\n",
       "      <td>0.926410</td>\n",
       "      <td>-1.116815</td>\n",
       "      <td>-0.328938</td>\n",
       "      <td>-0.443564</td>\n",
       "      <td>-0.344313</td>\n",
       "      <td>1.080559</td>\n",
       "      <td>1.471946</td>\n",
       "      <td>1.123868</td>\n",
       "      <td>0.373736</td>\n",
       "      <td>0.230584</td>\n",
       "      <td>0.112430</td>\n",
       "      <td>28.557213</td>\n",
       "      <td>18.738485</td>\n",
       "      <td>7.389726</td>\n",
       "      <td>6035.000977</td>\n",
       "      <td>9657.492188</td>\n",
       "      <td>4763.682617</td>\n",
       "      <td>27463.011719</td>\n",
       "      <td>46903.394531</td>\n",
       "      <td>24241.628906</td>\n",
       "      <td>2.196114</td>\n",
       "      <td>2.262732</td>\n",
       "      <td>2.310401</td>\n",
       "      <td>45</td>\n",
       "      <td>0</td>\n",
       "      <td>-0.477084</td>\n",
       "    </tr>\n",
       "  </tbody>\n",
       "</table>\n",
       "</div>"
      ],
      "text/plain": [
       "         id  LifeTime      dira  FlightDistance  FlightDistanceError  \\\n",
       "0  15347063  0.001451  0.999964        6.945030             0.229196   \n",
       "1  14383299  0.000679  0.999818        9.468235             0.517488   \n",
       "2   7382797  0.003027  0.999847       13.280714             0.219291   \n",
       "3   6751065  0.000810  0.999998        5.166821             0.167886   \n",
       "4   9439580  0.000706  0.999896       10.897236             0.284975   \n",
       "\n",
       "         IP      IPSig  VertexChi2            pt   DOCAone   DOCAtwo  \\\n",
       "0  0.058117   2.961298    7.953543   2251.611816  0.082219  0.084005   \n",
       "1  0.189683  14.413060    7.141451  10594.470703  0.007983  0.044154   \n",
       "2  0.231709  11.973175    4.778880   2502.196289  0.045085  0.106614   \n",
       "3  0.011298   0.891142    5.528002   5097.813965  0.055115  0.038642   \n",
       "4  0.160511  16.367550    8.670339  20388.097656  0.015587  0.020872   \n",
       "\n",
       "   DOCAthree   IP_p0p2   IP_p1p2  isolationa  isolationb  isolationc  \\\n",
       "0   0.066887  0.185107  0.214719           8           6           1   \n",
       "1   0.001321  0.039357  0.217507           5           6          17   \n",
       "2   0.005850  0.335788  0.885080           2           2           1   \n",
       "3   0.003864  0.076522  0.068347           4           4           3   \n",
       "4   0.014612  0.249906  0.139937           0           1           0   \n",
       "\n",
       "   isolationd  isolatione  isolationf  iso      CDF1      CDF2      CDF3  \\\n",
       "0         2.0         1.0         1.0  4.0  0.732076  0.492269  0.179091   \n",
       "1         1.0         1.0         1.0  3.0  0.802508  0.605835  0.584701   \n",
       "2         0.0         0.0         1.0  1.0  0.682607  0.682607  0.295038   \n",
       "3         0.0         0.0         0.0  0.0  0.533615  0.533615  0.533615   \n",
       "4         0.0         0.0         0.0  0.0  0.926410  0.926410  0.926410   \n",
       "\n",
       "   ISO_SumBDT  p0_IsoBDT  p1_IsoBDT  p2_IsoBDT  p0_track_Chi2Dof  \\\n",
       "0   -0.207475  -0.019306  -0.089797  -0.098372          0.606178   \n",
       "1   -0.659644  -0.278330  -0.186370  -0.194944          1.900118   \n",
       "2   -0.399239  -0.115879  -0.131069  -0.152291          0.660675   \n",
       "3   -0.821041  -0.208248  -0.177802  -0.434991          0.770563   \n",
       "4   -1.116815  -0.328938  -0.443564  -0.344313          1.080559   \n",
       "\n",
       "   p1_track_Chi2Dof  p2_track_Chi2Dof     p0_IP     p1_IP     p2_IP  \\\n",
       "0          0.862549          1.487057  0.483199  0.474925  0.426797   \n",
       "1          1.073474          1.336784  0.712242  0.260311  0.123877   \n",
       "2          1.683084          0.798658  0.381544  1.163556  1.290409   \n",
       "3          1.093031          0.938619  0.564650  0.164411  0.166646   \n",
       "4          1.471946          1.123868  0.373736  0.230584  0.112430   \n",
       "\n",
       "    p0_IPSig   p1_IPSig   p2_IPSig        p0_pt        p1_pt        p2_pt  \\\n",
       "0  24.701061  10.732132   8.853514  1438.064697   468.645721   834.562378   \n",
       "1  11.312134  16.435398   7.737038   316.791351  7547.703613  2861.309814   \n",
       "2  16.435801  20.686119  44.521961  1887.477905   317.579529   932.128235   \n",
       "3  24.878387   7.873435   9.630725   975.041687  1650.837524  2617.248291   \n",
       "4  28.557213  18.738485   7.389726  6035.000977  9657.492188  4763.682617   \n",
       "\n",
       "           p0_p          p1_p          p2_p    p0_eta    p1_eta    p2_eta  \\\n",
       "0  10392.814453   6380.673828  15195.594727  2.666142  3.302978  3.594246   \n",
       "1   3174.356934  64480.023438  23134.953125  2.995265  2.834816  2.779366   \n",
       "2  15219.761719   3921.181641  10180.791016  2.776633  3.204923  3.081832   \n",
       "3   4365.082520  13221.149414  24291.875000  2.179345  2.769762  2.918251   \n",
       "4  27463.011719  46903.394531  24241.628906  2.196114  2.262732  2.310401   \n",
       "\n",
       "   SPDhits  signal    weight  \n",
       "0      512       0 -0.307813  \n",
       "1      552       0 -0.331421  \n",
       "2      318       0 -0.382215  \n",
       "3      290       0  1.465194  \n",
       "4       45       0 -0.477084  "
      ]
     },
     "execution_count": 14,
     "metadata": {},
     "output_type": "execute_result"
    }
   ],
   "source": [
    "check_agreement.head()"
   ]
  },
  {
   "cell_type": "code",
   "execution_count": 15,
   "metadata": {},
   "outputs": [
    {
     "data": {
      "text/plain": [
       "49"
      ]
     },
     "execution_count": 15,
     "metadata": {},
     "output_type": "execute_result"
    }
   ],
   "source": [
    "check_agreement.shape[1]"
   ]
  },
  {
   "cell_type": "markdown",
   "metadata": {},
   "source": [
    "### check_correlation.csv\n"
   ]
  },
  {
   "cell_type": "markdown",
   "metadata": {},
   "source": [
    "- signal\n",
    "- production\n",
    "- min_ANNmuon\n"
   ]
  },
  {
   "cell_type": "code",
   "execution_count": 16,
   "metadata": {},
   "outputs": [
    {
     "data": {
      "text/html": [
       "<div>\n",
       "<style scoped>\n",
       "    .dataframe tbody tr th:only-of-type {\n",
       "        vertical-align: middle;\n",
       "    }\n",
       "\n",
       "    .dataframe tbody tr th {\n",
       "        vertical-align: top;\n",
       "    }\n",
       "\n",
       "    .dataframe thead th {\n",
       "        text-align: right;\n",
       "    }\n",
       "</style>\n",
       "<table border=\"1\" class=\"dataframe\">\n",
       "  <thead>\n",
       "    <tr style=\"text-align: right;\">\n",
       "      <th></th>\n",
       "      <th>id</th>\n",
       "      <th>LifeTime</th>\n",
       "      <th>dira</th>\n",
       "      <th>FlightDistance</th>\n",
       "      <th>FlightDistanceError</th>\n",
       "      <th>IP</th>\n",
       "      <th>IPSig</th>\n",
       "      <th>VertexChi2</th>\n",
       "      <th>pt</th>\n",
       "      <th>DOCAone</th>\n",
       "      <th>DOCAtwo</th>\n",
       "      <th>DOCAthree</th>\n",
       "      <th>IP_p0p2</th>\n",
       "      <th>IP_p1p2</th>\n",
       "      <th>isolationa</th>\n",
       "      <th>isolationb</th>\n",
       "      <th>isolationc</th>\n",
       "      <th>isolationd</th>\n",
       "      <th>isolatione</th>\n",
       "      <th>isolationf</th>\n",
       "      <th>iso</th>\n",
       "      <th>CDF1</th>\n",
       "      <th>CDF2</th>\n",
       "      <th>CDF3</th>\n",
       "      <th>ISO_SumBDT</th>\n",
       "      <th>p0_IsoBDT</th>\n",
       "      <th>p1_IsoBDT</th>\n",
       "      <th>p2_IsoBDT</th>\n",
       "      <th>p0_track_Chi2Dof</th>\n",
       "      <th>p1_track_Chi2Dof</th>\n",
       "      <th>p2_track_Chi2Dof</th>\n",
       "      <th>p0_IP</th>\n",
       "      <th>p1_IP</th>\n",
       "      <th>p2_IP</th>\n",
       "      <th>p0_IPSig</th>\n",
       "      <th>p1_IPSig</th>\n",
       "      <th>p2_IPSig</th>\n",
       "      <th>p0_pt</th>\n",
       "      <th>p1_pt</th>\n",
       "      <th>p2_pt</th>\n",
       "      <th>p0_p</th>\n",
       "      <th>p1_p</th>\n",
       "      <th>p2_p</th>\n",
       "      <th>p0_eta</th>\n",
       "      <th>p1_eta</th>\n",
       "      <th>p2_eta</th>\n",
       "      <th>SPDhits</th>\n",
       "      <th>mass</th>\n",
       "    </tr>\n",
       "  </thead>\n",
       "  <tbody>\n",
       "    <tr>\n",
       "      <th>0</th>\n",
       "      <td>11120335</td>\n",
       "      <td>0.000703</td>\n",
       "      <td>0.999715</td>\n",
       "      <td>2.927074</td>\n",
       "      <td>0.214014</td>\n",
       "      <td>0.081302</td>\n",
       "      <td>4.259793</td>\n",
       "      <td>1.066585</td>\n",
       "      <td>3108.189941</td>\n",
       "      <td>0.010767</td>\n",
       "      <td>0.024147</td>\n",
       "      <td>0.003066</td>\n",
       "      <td>0.100619</td>\n",
       "      <td>0.087596</td>\n",
       "      <td>2</td>\n",
       "      <td>10</td>\n",
       "      <td>5</td>\n",
       "      <td>2.0</td>\n",
       "      <td>1.0</td>\n",
       "      <td>1.0</td>\n",
       "      <td>4.0</td>\n",
       "      <td>0.661286</td>\n",
       "      <td>0.592280</td>\n",
       "      <td>0.592280</td>\n",
       "      <td>-0.229346</td>\n",
       "      <td>-0.089797</td>\n",
       "      <td>-0.049752</td>\n",
       "      <td>-0.089797</td>\n",
       "      <td>1.015762</td>\n",
       "      <td>0.918588</td>\n",
       "      <td>2.555963</td>\n",
       "      <td>0.336053</td>\n",
       "      <td>0.138520</td>\n",
       "      <td>0.239775</td>\n",
       "      <td>6.975648</td>\n",
       "      <td>7.199831</td>\n",
       "      <td>9.638602</td>\n",
       "      <td>1142.124512</td>\n",
       "      <td>1294.450928</td>\n",
       "      <td>1073.976440</td>\n",
       "      <td>9274.671875</td>\n",
       "      <td>7963.914062</td>\n",
       "      <td>6712.897949</td>\n",
       "      <td>2.783731</td>\n",
       "      <td>2.503310</td>\n",
       "      <td>2.519349</td>\n",
       "      <td>280</td>\n",
       "      <td>1723.887939</td>\n",
       "    </tr>\n",
       "    <tr>\n",
       "      <th>1</th>\n",
       "      <td>11495369</td>\n",
       "      <td>0.000601</td>\n",
       "      <td>0.999950</td>\n",
       "      <td>15.849142</td>\n",
       "      <td>0.842973</td>\n",
       "      <td>0.182213</td>\n",
       "      <td>13.882857</td>\n",
       "      <td>5.780046</td>\n",
       "      <td>6858.264648</td>\n",
       "      <td>0.007574</td>\n",
       "      <td>0.020010</td>\n",
       "      <td>0.064194</td>\n",
       "      <td>0.058354</td>\n",
       "      <td>0.247012</td>\n",
       "      <td>3</td>\n",
       "      <td>3</td>\n",
       "      <td>4</td>\n",
       "      <td>0.0</td>\n",
       "      <td>1.0</td>\n",
       "      <td>1.0</td>\n",
       "      <td>2.0</td>\n",
       "      <td>0.744360</td>\n",
       "      <td>0.441476</td>\n",
       "      <td>0.209664</td>\n",
       "      <td>-0.364786</td>\n",
       "      <td>-0.115879</td>\n",
       "      <td>-0.124454</td>\n",
       "      <td>-0.124454</td>\n",
       "      <td>1.413934</td>\n",
       "      <td>0.696266</td>\n",
       "      <td>1.531379</td>\n",
       "      <td>0.282444</td>\n",
       "      <td>0.298322</td>\n",
       "      <td>0.168395</td>\n",
       "      <td>10.620588</td>\n",
       "      <td>17.345636</td>\n",
       "      <td>7.344349</td>\n",
       "      <td>1174.860229</td>\n",
       "      <td>3981.284912</td>\n",
       "      <td>1859.680542</td>\n",
       "      <td>22844.791016</td>\n",
       "      <td>109955.101562</td>\n",
       "      <td>37051.800781</td>\n",
       "      <td>3.660059</td>\n",
       "      <td>4.011287</td>\n",
       "      <td>3.684429</td>\n",
       "      <td>386</td>\n",
       "      <td>1926.284058</td>\n",
       "    </tr>\n",
       "    <tr>\n",
       "      <th>2</th>\n",
       "      <td>7098902</td>\n",
       "      <td>0.002009</td>\n",
       "      <td>0.999984</td>\n",
       "      <td>43.358494</td>\n",
       "      <td>1.323199</td>\n",
       "      <td>0.200158</td>\n",
       "      <td>12.870687</td>\n",
       "      <td>3.460782</td>\n",
       "      <td>3604.347412</td>\n",
       "      <td>0.052849</td>\n",
       "      <td>0.127547</td>\n",
       "      <td>0.073476</td>\n",
       "      <td>0.365799</td>\n",
       "      <td>0.292673</td>\n",
       "      <td>0</td>\n",
       "      <td>1</td>\n",
       "      <td>0</td>\n",
       "      <td>0.0</td>\n",
       "      <td>0.0</td>\n",
       "      <td>0.0</td>\n",
       "      <td>0.0</td>\n",
       "      <td>0.699672</td>\n",
       "      <td>0.678214</td>\n",
       "      <td>0.437321</td>\n",
       "      <td>-1.175178</td>\n",
       "      <td>-0.351104</td>\n",
       "      <td>-0.414748</td>\n",
       "      <td>-0.409326</td>\n",
       "      <td>1.307686</td>\n",
       "      <td>1.081815</td>\n",
       "      <td>0.674668</td>\n",
       "      <td>0.173122</td>\n",
       "      <td>0.480514</td>\n",
       "      <td>1.041596</td>\n",
       "      <td>4.409735</td>\n",
       "      <td>30.871080</td>\n",
       "      <td>7.409998</td>\n",
       "      <td>1046.867310</td>\n",
       "      <td>2564.430420</td>\n",
       "      <td>354.095032</td>\n",
       "      <td>45214.070312</td>\n",
       "      <td>77265.429688</td>\n",
       "      <td>12087.007812</td>\n",
       "      <td>4.458619</td>\n",
       "      <td>4.098382</td>\n",
       "      <td>4.223254</td>\n",
       "      <td>433</td>\n",
       "      <td>1830.873047</td>\n",
       "    </tr>\n",
       "    <tr>\n",
       "      <th>3</th>\n",
       "      <td>8103692</td>\n",
       "      <td>0.001268</td>\n",
       "      <td>0.999550</td>\n",
       "      <td>6.910733</td>\n",
       "      <td>0.198652</td>\n",
       "      <td>0.167730</td>\n",
       "      <td>8.559438</td>\n",
       "      <td>7.676139</td>\n",
       "      <td>3240.960449</td>\n",
       "      <td>0.101368</td>\n",
       "      <td>0.002148</td>\n",
       "      <td>0.037449</td>\n",
       "      <td>0.060147</td>\n",
       "      <td>0.162985</td>\n",
       "      <td>4</td>\n",
       "      <td>9</td>\n",
       "      <td>4</td>\n",
       "      <td>1.0</td>\n",
       "      <td>1.0</td>\n",
       "      <td>1.0</td>\n",
       "      <td>3.0</td>\n",
       "      <td>0.257655</td>\n",
       "      <td>0.184313</td>\n",
       "      <td>0.182857</td>\n",
       "      <td>-0.495822</td>\n",
       "      <td>-0.194944</td>\n",
       "      <td>-0.176424</td>\n",
       "      <td>-0.124454</td>\n",
       "      <td>1.019122</td>\n",
       "      <td>2.248540</td>\n",
       "      <td>1.243463</td>\n",
       "      <td>0.390963</td>\n",
       "      <td>0.627191</td>\n",
       "      <td>0.136959</td>\n",
       "      <td>11.687304</td>\n",
       "      <td>31.343948</td>\n",
       "      <td>4.312659</td>\n",
       "      <td>1051.328979</td>\n",
       "      <td>1178.332031</td>\n",
       "      <td>1285.701660</td>\n",
       "      <td>11245.551758</td>\n",
       "      <td>6770.969238</td>\n",
       "      <td>17003.119141</td>\n",
       "      <td>3.060873</td>\n",
       "      <td>2.434033</td>\n",
       "      <td>3.273807</td>\n",
       "      <td>245</td>\n",
       "      <td>1909.119019</td>\n",
       "    </tr>\n",
       "    <tr>\n",
       "      <th>4</th>\n",
       "      <td>10160864</td>\n",
       "      <td>0.001937</td>\n",
       "      <td>0.999996</td>\n",
       "      <td>36.135208</td>\n",
       "      <td>0.508036</td>\n",
       "      <td>0.097170</td>\n",
       "      <td>9.295684</td>\n",
       "      <td>0.426340</td>\n",
       "      <td>6448.445312</td>\n",
       "      <td>0.007005</td>\n",
       "      <td>0.008510</td>\n",
       "      <td>0.009841</td>\n",
       "      <td>0.481759</td>\n",
       "      <td>0.455559</td>\n",
       "      <td>0</td>\n",
       "      <td>4</td>\n",
       "      <td>0</td>\n",
       "      <td>0.0</td>\n",
       "      <td>0.0</td>\n",
       "      <td>0.0</td>\n",
       "      <td>0.0</td>\n",
       "      <td>0.588020</td>\n",
       "      <td>0.537217</td>\n",
       "      <td>0.222616</td>\n",
       "      <td>-0.766796</td>\n",
       "      <td>-0.263475</td>\n",
       "      <td>-0.263475</td>\n",
       "      <td>-0.239847</td>\n",
       "      <td>0.766173</td>\n",
       "      <td>0.715839</td>\n",
       "      <td>0.847636</td>\n",
       "      <td>0.612008</td>\n",
       "      <td>0.498065</td>\n",
       "      <td>0.641609</td>\n",
       "      <td>38.172073</td>\n",
       "      <td>38.144756</td>\n",
       "      <td>14.099512</td>\n",
       "      <td>3081.089111</td>\n",
       "      <td>3140.512207</td>\n",
       "      <td>385.343475</td>\n",
       "      <td>48171.457031</td>\n",
       "      <td>43973.835938</td>\n",
       "      <td>7368.522949</td>\n",
       "      <td>3.441606</td>\n",
       "      <td>3.331079</td>\n",
       "      <td>3.643300</td>\n",
       "      <td>489</td>\n",
       "      <td>1600.925049</td>\n",
       "    </tr>\n",
       "  </tbody>\n",
       "</table>\n",
       "</div>"
      ],
      "text/plain": [
       "         id  LifeTime      dira  FlightDistance  FlightDistanceError  \\\n",
       "0  11120335  0.000703  0.999715        2.927074             0.214014   \n",
       "1  11495369  0.000601  0.999950       15.849142             0.842973   \n",
       "2   7098902  0.002009  0.999984       43.358494             1.323199   \n",
       "3   8103692  0.001268  0.999550        6.910733             0.198652   \n",
       "4  10160864  0.001937  0.999996       36.135208             0.508036   \n",
       "\n",
       "         IP      IPSig  VertexChi2           pt   DOCAone   DOCAtwo  \\\n",
       "0  0.081302   4.259793    1.066585  3108.189941  0.010767  0.024147   \n",
       "1  0.182213  13.882857    5.780046  6858.264648  0.007574  0.020010   \n",
       "2  0.200158  12.870687    3.460782  3604.347412  0.052849  0.127547   \n",
       "3  0.167730   8.559438    7.676139  3240.960449  0.101368  0.002148   \n",
       "4  0.097170   9.295684    0.426340  6448.445312  0.007005  0.008510   \n",
       "\n",
       "   DOCAthree   IP_p0p2   IP_p1p2  isolationa  isolationb  isolationc  \\\n",
       "0   0.003066  0.100619  0.087596           2          10           5   \n",
       "1   0.064194  0.058354  0.247012           3           3           4   \n",
       "2   0.073476  0.365799  0.292673           0           1           0   \n",
       "3   0.037449  0.060147  0.162985           4           9           4   \n",
       "4   0.009841  0.481759  0.455559           0           4           0   \n",
       "\n",
       "   isolationd  isolatione  isolationf  iso      CDF1      CDF2      CDF3  \\\n",
       "0         2.0         1.0         1.0  4.0  0.661286  0.592280  0.592280   \n",
       "1         0.0         1.0         1.0  2.0  0.744360  0.441476  0.209664   \n",
       "2         0.0         0.0         0.0  0.0  0.699672  0.678214  0.437321   \n",
       "3         1.0         1.0         1.0  3.0  0.257655  0.184313  0.182857   \n",
       "4         0.0         0.0         0.0  0.0  0.588020  0.537217  0.222616   \n",
       "\n",
       "   ISO_SumBDT  p0_IsoBDT  p1_IsoBDT  p2_IsoBDT  p0_track_Chi2Dof  \\\n",
       "0   -0.229346  -0.089797  -0.049752  -0.089797          1.015762   \n",
       "1   -0.364786  -0.115879  -0.124454  -0.124454          1.413934   \n",
       "2   -1.175178  -0.351104  -0.414748  -0.409326          1.307686   \n",
       "3   -0.495822  -0.194944  -0.176424  -0.124454          1.019122   \n",
       "4   -0.766796  -0.263475  -0.263475  -0.239847          0.766173   \n",
       "\n",
       "   p1_track_Chi2Dof  p2_track_Chi2Dof     p0_IP     p1_IP     p2_IP  \\\n",
       "0          0.918588          2.555963  0.336053  0.138520  0.239775   \n",
       "1          0.696266          1.531379  0.282444  0.298322  0.168395   \n",
       "2          1.081815          0.674668  0.173122  0.480514  1.041596   \n",
       "3          2.248540          1.243463  0.390963  0.627191  0.136959   \n",
       "4          0.715839          0.847636  0.612008  0.498065  0.641609   \n",
       "\n",
       "    p0_IPSig   p1_IPSig   p2_IPSig        p0_pt        p1_pt        p2_pt  \\\n",
       "0   6.975648   7.199831   9.638602  1142.124512  1294.450928  1073.976440   \n",
       "1  10.620588  17.345636   7.344349  1174.860229  3981.284912  1859.680542   \n",
       "2   4.409735  30.871080   7.409998  1046.867310  2564.430420   354.095032   \n",
       "3  11.687304  31.343948   4.312659  1051.328979  1178.332031  1285.701660   \n",
       "4  38.172073  38.144756  14.099512  3081.089111  3140.512207   385.343475   \n",
       "\n",
       "           p0_p           p1_p          p2_p    p0_eta    p1_eta    p2_eta  \\\n",
       "0   9274.671875    7963.914062   6712.897949  2.783731  2.503310  2.519349   \n",
       "1  22844.791016  109955.101562  37051.800781  3.660059  4.011287  3.684429   \n",
       "2  45214.070312   77265.429688  12087.007812  4.458619  4.098382  4.223254   \n",
       "3  11245.551758    6770.969238  17003.119141  3.060873  2.434033  3.273807   \n",
       "4  48171.457031   43973.835938   7368.522949  3.441606  3.331079  3.643300   \n",
       "\n",
       "   SPDhits         mass  \n",
       "0      280  1723.887939  \n",
       "1      386  1926.284058  \n",
       "2      433  1830.873047  \n",
       "3      245  1909.119019  \n",
       "4      489  1600.925049  "
      ]
     },
     "execution_count": 16,
     "metadata": {},
     "output_type": "execute_result"
    }
   ],
   "source": [
    "check_correlation.head()"
   ]
  },
  {
   "cell_type": "code",
   "execution_count": 17,
   "metadata": {},
   "outputs": [
    {
     "data": {
      "text/plain": [
       "48"
      ]
     },
     "execution_count": 17,
     "metadata": {},
     "output_type": "execute_result"
    }
   ],
   "source": [
    "check_correlation.shape[1]"
   ]
  },
  {
   "cell_type": "markdown",
   "metadata": {},
   "source": [
    "### Preprocessing\n"
   ]
  },
  {
   "cell_type": "markdown",
   "metadata": {},
   "source": [
    "#### Feature Engineering\n"
   ]
  },
  {
   "cell_type": "markdown",
   "metadata": {},
   "source": [
    "##### Mass reconstruction\n"
   ]
  },
  {
   "cell_type": "markdown",
   "metadata": {},
   "source": [
    "In LHCb, the z axis is choosen to be the direction of the beam, as shown with red arrows\n"
   ]
  },
  {
   "cell_type": "markdown",
   "metadata": {},
   "source": [
    "- Kinematic relations\n"
   ]
  },
  {
   "cell_type": "code",
   "execution_count": 18,
   "metadata": {},
   "outputs": [],
   "source": [
    "## We can calculate the longitudinal momentum (pz) with transverse momentum and pseudorapidity or momentum\n",
    "def calc_pz(df, method=\"momentum\"):\n",
    "    if method == \"momentum\":\n",
    "        p0_z = np.sqrt(np.square(df[\"p0_p\"]) - np.square(df[\"p0_pt\"]))\n",
    "        p1_z = np.sqrt(np.square(df[\"p1_p\"]) - np.square(df[\"p1_pt\"]))\n",
    "        p2_z = np.sqrt(np.square(df[\"p2_p\"]) - np.square(df[\"p2_pt\"]))\n",
    "    elif method == \"pseudorapidity\":\n",
    "        p0_z = df[\"p0_pt\"] * np.sinh(df[\"p0_eta\"])\n",
    "        p1_z = df[\"p1_pt\"] * np.sinh(df[\"p1_eta\"])\n",
    "        p2_z = df[\"p2_pt\"] * np.sinh(df[\"p2_eta\"])\n",
    "    pz = p0_z + p1_z + p2_z\n",
    "    return pz\n",
    "\n",
    "\n",
    "def calc_p(df):\n",
    "    p = np.sqrt(np.square(df[\"pt\"]) + np.square(calc_pz(df)))\n",
    "    return p\n",
    "\n",
    "\n",
    "def calc_e(df):\n",
    "    MUON_MASS = 105.66  # MeV\n",
    "    e0 = np.sqrt(np.square(MUON_MASS) + np.square(df[\"p0_p\"]))\n",
    "    e1 = np.sqrt(np.square(MUON_MASS) + np.square(df[\"p1_p\"]))\n",
    "    e2 = np.sqrt(np.square(MUON_MASS) + np.square(df[\"p2_p\"]))\n",
    "    e = e0 + e1 + e2\n",
    "    return e\n",
    "\n",
    "\n",
    "def calc_mass(df):\n",
    "    e = calc_e(df)\n",
    "    p = calc_p(df)\n",
    "    mass = np.sqrt(np.square(e) - np.square(p))\n",
    "    return mass"
   ]
  },
  {
   "cell_type": "markdown",
   "metadata": {},
   "source": [
    "- Mass estimation analysis\n"
   ]
  },
  {
   "cell_type": "code",
   "execution_count": 19,
   "metadata": {},
   "outputs": [
    {
     "name": "stderr",
     "output_type": "stream",
     "text": [
      "c:\\Users\\jonh\\AppData\\Local\\miniconda3\\Lib\\site-packages\\pandas\\core\\arraylike.py:399: RuntimeWarning: invalid value encountered in sqrt\n",
      "  result = getattr(ufunc, method)(*inputs, **kwargs)\n"
     ]
    }
   ],
   "source": [
    "mass = calc_mass(train)"
   ]
  },
  {
   "cell_type": "markdown",
   "metadata": {},
   "source": [
    "A massa do tau é de aproximadamente 1777.68 MeV.\n"
   ]
  },
  {
   "cell_type": "code",
   "execution_count": 20,
   "metadata": {},
   "outputs": [
    {
     "data": {
      "text/plain": [
       "np.float64(1779.8431182374684)"
      ]
     },
     "execution_count": 20,
     "metadata": {},
     "output_type": "execute_result"
    }
   ],
   "source": [
    "mass.mean()"
   ]
  },
  {
   "cell_type": "markdown",
   "metadata": {},
   "source": [
    "O resultado foi bem próximo ao esperado.\n"
   ]
  },
  {
   "cell_type": "code",
   "execution_count": 21,
   "metadata": {},
   "outputs": [
    {
     "data": {
      "text/plain": [
       "77.36910229257754"
      ]
     },
     "execution_count": 21,
     "metadata": {},
     "output_type": "execute_result"
    }
   ],
   "source": [
    "mass.std()"
   ]
  },
  {
   "cell_type": "code",
   "execution_count": 22,
   "metadata": {},
   "outputs": [
    {
     "data": {
      "image/png": "[encoded data removed]",
      "text/plain": [
       "<Figure size 640x480 with 1 Axes>"
      ]
     },
     "metadata": {},
     "output_type": "display_data"
    }
   ],
   "source": [
    "stds = 2\n",
    "start = mass.mean() - (mass.std() * stds)\n",
    "end = mass.mean() + (mass.std() * stds)\n",
    "sns.scatterplot(data=train, x=\"mass\", y=mass, s=0.5, hue=\"signal\")\n",
    "plt.xlim(start, end)\n",
    "plt.ylim(start, end)\n",
    "plt.legend(markerscale=10)\n",
    "plt.show()"
   ]
  },
  {
   "cell_type": "code",
   "execution_count": 23,
   "metadata": {},
   "outputs": [
    {
     "data": {
      "image/png": "[encoded data removed]",
      "text/plain": [
       "<Figure size 640x480 with 1 Axes>"
      ]
     },
     "metadata": {},
     "output_type": "display_data"
    }
   ],
   "source": [
    "sns.histplot(data=train, x=mass, hue=\"signal\")\n",
    "plt.xlim(start, end)\n",
    "plt.show()"
   ]
  },
  {
   "cell_type": "markdown",
   "metadata": {},
   "source": [
    "##### Add mass\n"
   ]
  },
  {
   "cell_type": "code",
   "execution_count": 24,
   "metadata": {},
   "outputs": [
    {
     "name": "stderr",
     "output_type": "stream",
     "text": [
      "c:\\Users\\jonh\\AppData\\Local\\miniconda3\\Lib\\site-packages\\pandas\\core\\arraylike.py:399: RuntimeWarning: invalid value encountered in sqrt\n",
      "  result = getattr(ufunc, method)(*inputs, **kwargs)\n",
      "c:\\Users\\jonh\\AppData\\Local\\miniconda3\\Lib\\site-packages\\pandas\\core\\arraylike.py:399: RuntimeWarning: invalid value encountered in sqrt\n",
      "  result = getattr(ufunc, method)(*inputs, **kwargs)\n"
     ]
    }
   ],
   "source": [
    "test[\"mass\"] = calc_mass(test)\n",
    "check_agreement[\"mass\"] = calc_mass(check_agreement)"
   ]
  },
  {
   "cell_type": "code",
   "execution_count": 25,
   "metadata": {},
   "outputs": [
    {
     "name": "stdout",
     "output_type": "stream",
     "text": [
      "Valor médio da massa do Tau 1942.239 GeV nos dados de agreement.\n",
      "O desvio padrão foi de 70.761 GeV nos dados de agreement.\n"
     ]
    }
   ],
   "source": [
    "print(\n",
    "    f'Valor médio da massa do Tau {test[\"mass\"].mean():.3f} GeV nos dados de agreement.'\n",
    ")\n",
    "print(f'O desvio padrão foi de {test[\"mass\"].std():.3f} GeV nos dados de agreement.')"
   ]
  },
  {
   "cell_type": "code",
   "execution_count": 26,
   "metadata": {},
   "outputs": [
    {
     "name": "stdout",
     "output_type": "stream",
     "text": [
      "Valor médio da massa do Tau 1959.629 GeV nos dados de agreement.\n",
      "O desvio padrão foi de 38.873 GeV nos dados de agreement.\n"
     ]
    }
   ],
   "source": [
    "print(\n",
    "    f'Valor médio da massa do Tau {check_agreement[\"mass\"].mean():.3f} GeV nos dados de agreement.'\n",
    ")\n",
    "print(\n",
    "    f'O desvio padrão foi de {check_agreement[\"mass\"].std():.3f} GeV nos dados de agreement.'\n",
    ")"
   ]
  },
  {
   "cell_type": "markdown",
   "metadata": {},
   "source": [
    "#### Data\n"
   ]
  },
  {
   "cell_type": "code",
   "execution_count": 220,
   "metadata": {},
   "outputs": [],
   "source": [
    "X_train = train[features][cond_muon].values\n",
    "X_test = test[features].values\n",
    "X_agre = check_agreement[features].values\n",
    "X_corr = check_correlation[features].values"
   ]
  },
  {
   "cell_type": "code",
   "execution_count": 221,
   "metadata": {},
   "outputs": [],
   "source": [
    "y_train = train[\"signal\"][cond_muon].values"
   ]
  },
  {
   "cell_type": "code",
   "execution_count": 222,
   "metadata": {},
   "outputs": [
    {
     "data": {
      "text/plain": [
       "array([0, 0, 0, ..., 1, 1, 1], shape=(38012,))"
      ]
     },
     "execution_count": 222,
     "metadata": {},
     "output_type": "execute_result"
    }
   ],
   "source": [
    "y_train"
   ]
  },
  {
   "cell_type": "markdown",
   "metadata": {},
   "source": [
    "#### Scaling\n"
   ]
  },
  {
   "cell_type": "markdown",
   "metadata": {},
   "source": [
    "Como também pretendemos utilizar um modelo de rede neural, vamos escalonar os dados.\n"
   ]
  },
  {
   "cell_type": "code",
   "execution_count": 223,
   "metadata": {},
   "outputs": [],
   "source": [
    "from tensorflow.keras import layers"
   ]
  },
  {
   "cell_type": "code",
   "execution_count": 224,
   "metadata": {},
   "outputs": [],
   "source": [
    "normalizer = layers.Normalization()\n",
    "normalizer.adapt(X_train)"
   ]
  },
  {
   "cell_type": "code",
   "execution_count": 225,
   "metadata": {},
   "outputs": [],
   "source": [
    "X_train_scaled = normalizer(X_train)\n",
    "X_test_scaled = normalizer(X_test)\n",
    "X_agre_scaled = normalizer(X_agre)\n",
    "X_corr_scaled = normalizer(X_corr)"
   ]
  },
  {
   "cell_type": "markdown",
   "metadata": {},
   "source": [
    "#### PCA\n"
   ]
  },
  {
   "cell_type": "markdown",
   "metadata": {},
   "source": [
    "Considerando a natureza dos dados da Física de Altas Energias, o PCA pode não ser a técnica indicada. Isso porque seus atributos possuem significado físico direto, o que pode ser distorcido pela redução de dimensionalidade. Além disso, a presença de relações não lineares entre os atributos pode limitar a efetividade do PCA.\n"
   ]
  },
  {
   "cell_type": "code",
   "execution_count": 226,
   "metadata": {},
   "outputs": [],
   "source": [
    "from sklearn.decomposition import PCA"
   ]
  },
  {
   "cell_type": "code",
   "execution_count": 227,
   "metadata": {},
   "outputs": [
    {
     "data": {
      "text/html": [
       "<style>#sk-container-id-10 {\n",
       "  /* Definition of color scheme common for light and dark mode */\n",
       "  --sklearn-color-text: black;\n",
       "  --sklearn-color-line: gray;\n",
       "  /* Definition of color scheme for unfitted estimators */\n",
       "  --sklearn-color-unfitted-level-0: #fff5e6;\n",
       "  --sklearn-color-unfitted-level-1: #f6e4d2;\n",
       "  --sklearn-color-unfitted-level-2: #ffe0b3;\n",
       "  --sklearn-color-unfitted-level-3: chocolate;\n",
       "  /* Definition of color scheme for fitted estimators */\n",
       "  --sklearn-color-fitted-level-0: #f0f8ff;\n",
       "  --sklearn-color-fitted-level-1: #d4ebff;\n",
       "  --sklearn-color-fitted-level-2: #b3dbfd;\n",
       "  --sklearn-color-fitted-level-3: cornflowerblue;\n",
       "\n",
       "  /* Specific color for light theme */\n",
       "  --sklearn-color-text-on-default-background: var(--sg-text-color, var(--theme-code-foreground, var(--jp-content-font-color1, black)));\n",
       "  --sklearn-color-background: var(--sg-background-color, var(--theme-background, var(--jp-layout-color0, white)));\n",
       "  --sklearn-color-border-box: var(--sg-text-color, var(--theme-code-foreground, var(--jp-content-font-color1, black)));\n",
       "  --sklearn-color-icon: #696969;\n",
       "\n",
       "  @media (prefers-color-scheme: dark) {\n",
       "    /* Redefinition of color scheme for dark theme */\n",
       "    --sklearn-color-text-on-default-background: var(--sg-text-color, var(--theme-code-foreground, var(--jp-content-font-color1, white)));\n",
       "    --sklearn-color-background: var(--sg-background-color, var(--theme-background, var(--jp-layout-color0, #111)));\n",
       "    --sklearn-color-border-box: var(--sg-text-color, var(--theme-code-foreground, var(--jp-content-font-color1, white)));\n",
       "    --sklearn-color-icon: #878787;\n",
       "  }\n",
       "}\n",
       "\n",
       "#sk-container-id-10 {\n",
       "  color: var(--sklearn-color-text);\n",
       "}\n",
       "\n",
       "#sk-container-id-10 pre {\n",
       "  padding: 0;\n",
       "}\n",
       "\n",
       "#sk-container-id-10 input.sk-hidden--visually {\n",
       "  border: 0;\n",
       "  clip: rect(1px 1px 1px 1px);\n",
       "  clip: rect(1px, 1px, 1px, 1px);\n",
       "  height: 1px;\n",
       "  margin: -1px;\n",
       "  overflow: hidden;\n",
       "  padding: 0;\n",
       "  position: absolute;\n",
       "  width: 1px;\n",
       "}\n",
       "\n",
       "#sk-container-id-10 div.sk-dashed-wrapped {\n",
       "  border: 1px dashed var(--sklearn-color-line);\n",
       "  margin: 0 0.4em 0.5em 0.4em;\n",
       "  box-sizing: border-box;\n",
       "  padding-bottom: 0.4em;\n",
       "  background-color: var(--sklearn-color-background);\n",
       "}\n",
       "\n",
       "#sk-container-id-10 div.sk-container {\n",
       "  /* jupyter's `normalize.less` sets `[hidden] { display: none; }`\n",
       "     but bootstrap.min.css set `[hidden] { display: none !important; }`\n",
       "     so we also need the `!important` here to be able to override the\n",
       "     default hidden behavior on the sphinx rendered scikit-learn.org.\n",
       "     See: https://github.com/scikit-learn/scikit-learn/issues/21755 */\n",
       "  display: inline-block !important;\n",
       "  position: relative;\n",
       "}\n",
       "\n",
       "#sk-container-id-10 div.sk-text-repr-fallback {\n",
       "  display: none;\n",
       "}\n",
       "\n",
       "div.sk-parallel-item,\n",
       "div.sk-serial,\n",
       "div.sk-item {\n",
       "  /* draw centered vertical line to link estimators */\n",
       "  background-image: linear-gradient(var(--sklearn-color-text-on-default-background), var(--sklearn-color-text-on-default-background));\n",
       "  background-size: 2px 100%;\n",
       "  background-repeat: no-repeat;\n",
       "  background-position: center center;\n",
       "}\n",
       "\n",
       "/* Parallel-specific style estimator block */\n",
       "\n",
       "#sk-container-id-10 div.sk-parallel-item::after {\n",
       "  content: \"\";\n",
       "  width: 100%;\n",
       "  border-bottom: 2px solid var(--sklearn-color-text-on-default-background);\n",
       "  flex-grow: 1;\n",
       "}\n",
       "\n",
       "#sk-container-id-10 div.sk-parallel {\n",
       "  display: flex;\n",
       "  align-items: stretch;\n",
       "  justify-content: center;\n",
       "  background-color: var(--sklearn-color-background);\n",
       "  position: relative;\n",
       "}\n",
       "\n",
       "#sk-container-id-10 div.sk-parallel-item {\n",
       "  display: flex;\n",
       "  flex-direction: column;\n",
       "}\n",
       "\n",
       "#sk-container-id-10 div.sk-parallel-item:first-child::after {\n",
       "  align-self: flex-end;\n",
       "  width: 50%;\n",
       "}\n",
       "\n",
       "#sk-container-id-10 div.sk-parallel-item:last-child::after {\n",
       "  align-self: flex-start;\n",
       "  width: 50%;\n",
       "}\n",
       "\n",
       "#sk-container-id-10 div.sk-parallel-item:only-child::after {\n",
       "  width: 0;\n",
       "}\n",
       "\n",
       "/* Serial-specific style estimator block */\n",
       "\n",
       "#sk-container-id-10 div.sk-serial {\n",
       "  display: flex;\n",
       "  flex-direction: column;\n",
       "  align-items: center;\n",
       "  background-color: var(--sklearn-color-background);\n",
       "  padding-right: 1em;\n",
       "  padding-left: 1em;\n",
       "}\n",
       "\n",
       "\n",
       "/* Toggleable style: style used for estimator/Pipeline/ColumnTransformer box that is\n",
       "clickable and can be expanded/collapsed.\n",
       "- Pipeline and ColumnTransformer use this feature and define the default style\n",
       "- Estimators will overwrite some part of the style using the `sk-estimator` class\n",
       "*/\n",
       "\n",
       "/* Pipeline and ColumnTransformer style (default) */\n",
       "\n",
       "#sk-container-id-10 div.sk-toggleable {\n",
       "  /* Default theme specific background. It is overwritten whether we have a\n",
       "  specific estimator or a Pipeline/ColumnTransformer */\n",
       "  background-color: var(--sklearn-color-background);\n",
       "}\n",
       "\n",
       "/* Toggleable label */\n",
       "#sk-container-id-10 label.sk-toggleable__label {\n",
       "  cursor: pointer;\n",
       "  display: block;\n",
       "  width: 100%;\n",
       "  margin-bottom: 0;\n",
       "  padding: 0.5em;\n",
       "  box-sizing: border-box;\n",
       "  text-align: center;\n",
       "}\n",
       "\n",
       "#sk-container-id-10 label.sk-toggleable__label-arrow:before {\n",
       "  /* Arrow on the left of the label */\n",
       "  content: \"▸\";\n",
       "  float: left;\n",
       "  margin-right: 0.25em;\n",
       "  color: var(--sklearn-color-icon);\n",
       "}\n",
       "\n",
       "#sk-container-id-10 label.sk-toggleable__label-arrow:hover:before {\n",
       "  color: var(--sklearn-color-text);\n",
       "}\n",
       "\n",
       "/* Toggleable content - dropdown */\n",
       "\n",
       "#sk-container-id-10 div.sk-toggleable__content {\n",
       "  max-height: 0;\n",
       "  max-width: 0;\n",
       "  overflow: hidden;\n",
       "  text-align: left;\n",
       "  /* unfitted */\n",
       "  background-color: var(--sklearn-color-unfitted-level-0);\n",
       "}\n",
       "\n",
       "#sk-container-id-10 div.sk-toggleable__content.fitted {\n",
       "  /* fitted */\n",
       "  background-color: var(--sklearn-color-fitted-level-0);\n",
       "}\n",
       "\n",
       "#sk-container-id-10 div.sk-toggleable__content pre {\n",
       "  margin: 0.2em;\n",
       "  border-radius: 0.25em;\n",
       "  color: var(--sklearn-color-text);\n",
       "  /* unfitted */\n",
       "  background-color: var(--sklearn-color-unfitted-level-0);\n",
       "}\n",
       "\n",
       "#sk-container-id-10 div.sk-toggleable__content.fitted pre {\n",
       "  /* unfitted */\n",
       "  background-color: var(--sklearn-color-fitted-level-0);\n",
       "}\n",
       "\n",
       "#sk-container-id-10 input.sk-toggleable__control:checked~div.sk-toggleable__content {\n",
       "  /* Expand drop-down */\n",
       "  max-height: 200px;\n",
       "  max-width: 100%;\n",
       "  overflow: auto;\n",
       "}\n",
       "\n",
       "#sk-container-id-10 input.sk-toggleable__control:checked~label.sk-toggleable__label-arrow:before {\n",
       "  content: \"▾\";\n",
       "}\n",
       "\n",
       "/* Pipeline/ColumnTransformer-specific style */\n",
       "\n",
       "#sk-container-id-10 div.sk-label input.sk-toggleable__control:checked~label.sk-toggleable__label {\n",
       "  color: var(--sklearn-color-text);\n",
       "  background-color: var(--sklearn-color-unfitted-level-2);\n",
       "}\n",
       "\n",
       "#sk-container-id-10 div.sk-label.fitted input.sk-toggleable__control:checked~label.sk-toggleable__label {\n",
       "  background-color: var(--sklearn-color-fitted-level-2);\n",
       "}\n",
       "\n",
       "/* Estimator-specific style */\n",
       "\n",
       "/* Colorize estimator box */\n",
       "#sk-container-id-10 div.sk-estimator input.sk-toggleable__control:checked~label.sk-toggleable__label {\n",
       "  /* unfitted */\n",
       "  background-color: var(--sklearn-color-unfitted-level-2);\n",
       "}\n",
       "\n",
       "#sk-container-id-10 div.sk-estimator.fitted input.sk-toggleable__control:checked~label.sk-toggleable__label {\n",
       "  /* fitted */\n",
       "  background-color: var(--sklearn-color-fitted-level-2);\n",
       "}\n",
       "\n",
       "#sk-container-id-10 div.sk-label label.sk-toggleable__label,\n",
       "#sk-container-id-10 div.sk-label label {\n",
       "  /* The background is the default theme color */\n",
       "  color: var(--sklearn-color-text-on-default-background);\n",
       "}\n",
       "\n",
       "/* On hover, darken the color of the background */\n",
       "#sk-container-id-10 div.sk-label:hover label.sk-toggleable__label {\n",
       "  color: var(--sklearn-color-text);\n",
       "  background-color: var(--sklearn-color-unfitted-level-2);\n",
       "}\n",
       "\n",
       "/* Label box, darken color on hover, fitted */\n",
       "#sk-container-id-10 div.sk-label.fitted:hover label.sk-toggleable__label.fitted {\n",
       "  color: var(--sklearn-color-text);\n",
       "  background-color: var(--sklearn-color-fitted-level-2);\n",
       "}\n",
       "\n",
       "/* Estimator label */\n",
       "\n",
       "#sk-container-id-10 div.sk-label label {\n",
       "  font-family: monospace;\n",
       "  font-weight: bold;\n",
       "  display: inline-block;\n",
       "  line-height: 1.2em;\n",
       "}\n",
       "\n",
       "#sk-container-id-10 div.sk-label-container {\n",
       "  text-align: center;\n",
       "}\n",
       "\n",
       "/* Estimator-specific */\n",
       "#sk-container-id-10 div.sk-estimator {\n",
       "  font-family: monospace;\n",
       "  border: 1px dotted var(--sklearn-color-border-box);\n",
       "  border-radius: 0.25em;\n",
       "  box-sizing: border-box;\n",
       "  margin-bottom: 0.5em;\n",
       "  /* unfitted */\n",
       "  background-color: var(--sklearn-color-unfitted-level-0);\n",
       "}\n",
       "\n",
       "#sk-container-id-10 div.sk-estimator.fitted {\n",
       "  /* fitted */\n",
       "  background-color: var(--sklearn-color-fitted-level-0);\n",
       "}\n",
       "\n",
       "/* on hover */\n",
       "#sk-container-id-10 div.sk-estimator:hover {\n",
       "  /* unfitted */\n",
       "  background-color: var(--sklearn-color-unfitted-level-2);\n",
       "}\n",
       "\n",
       "#sk-container-id-10 div.sk-estimator.fitted:hover {\n",
       "  /* fitted */\n",
       "  background-color: var(--sklearn-color-fitted-level-2);\n",
       "}\n",
       "\n",
       "/* Specification for estimator info (e.g. \"i\" and \"?\") */\n",
       "\n",
       "/* Common style for \"i\" and \"?\" */\n",
       "\n",
       ".sk-estimator-doc-link,\n",
       "a:link.sk-estimator-doc-link,\n",
       "a:visited.sk-estimator-doc-link {\n",
       "  float: right;\n",
       "  font-size: smaller;\n",
       "  line-height: 1em;\n",
       "  font-family: monospace;\n",
       "  background-color: var(--sklearn-color-background);\n",
       "  border-radius: 1em;\n",
       "  height: 1em;\n",
       "  width: 1em;\n",
       "  text-decoration: none !important;\n",
       "  margin-left: 1ex;\n",
       "  /* unfitted */\n",
       "  border: var(--sklearn-color-unfitted-level-1) 1pt solid;\n",
       "  color: var(--sklearn-color-unfitted-level-1);\n",
       "}\n",
       "\n",
       ".sk-estimator-doc-link.fitted,\n",
       "a:link.sk-estimator-doc-link.fitted,\n",
       "a:visited.sk-estimator-doc-link.fitted {\n",
       "  /* fitted */\n",
       "  border: var(--sklearn-color-fitted-level-1) 1pt solid;\n",
       "  color: var(--sklearn-color-fitted-level-1);\n",
       "}\n",
       "\n",
       "/* On hover */\n",
       "div.sk-estimator:hover .sk-estimator-doc-link:hover,\n",
       ".sk-estimator-doc-link:hover,\n",
       "div.sk-label-container:hover .sk-estimator-doc-link:hover,\n",
       ".sk-estimator-doc-link:hover {\n",
       "  /* unfitted */\n",
       "  background-color: var(--sklearn-color-unfitted-level-3);\n",
       "  color: var(--sklearn-color-background);\n",
       "  text-decoration: none;\n",
       "}\n",
       "\n",
       "div.sk-estimator.fitted:hover .sk-estimator-doc-link.fitted:hover,\n",
       ".sk-estimator-doc-link.fitted:hover,\n",
       "div.sk-label-container:hover .sk-estimator-doc-link.fitted:hover,\n",
       ".sk-estimator-doc-link.fitted:hover {\n",
       "  /* fitted */\n",
       "  background-color: var(--sklearn-color-fitted-level-3);\n",
       "  color: var(--sklearn-color-background);\n",
       "  text-decoration: none;\n",
       "}\n",
       "\n",
       "/* Span, style for the box shown on hovering the info icon */\n",
       ".sk-estimator-doc-link span {\n",
       "  display: none;\n",
       "  z-index: 9999;\n",
       "  position: relative;\n",
       "  font-weight: normal;\n",
       "  right: .2ex;\n",
       "  padding: .5ex;\n",
       "  margin: .5ex;\n",
       "  width: min-content;\n",
       "  min-width: 20ex;\n",
       "  max-width: 50ex;\n",
       "  color: var(--sklearn-color-text);\n",
       "  box-shadow: 2pt 2pt 4pt #999;\n",
       "  /* unfitted */\n",
       "  background: var(--sklearn-color-unfitted-level-0);\n",
       "  border: .5pt solid var(--sklearn-color-unfitted-level-3);\n",
       "}\n",
       "\n",
       ".sk-estimator-doc-link.fitted span {\n",
       "  /* fitted */\n",
       "  background: var(--sklearn-color-fitted-level-0);\n",
       "  border: var(--sklearn-color-fitted-level-3);\n",
       "}\n",
       "\n",
       ".sk-estimator-doc-link:hover span {\n",
       "  display: block;\n",
       "}\n",
       "\n",
       "/* \"?\"-specific style due to the `<a>` HTML tag */\n",
       "\n",
       "#sk-container-id-10 a.estimator_doc_link {\n",
       "  float: right;\n",
       "  font-size: 1rem;\n",
       "  line-height: 1em;\n",
       "  font-family: monospace;\n",
       "  background-color: var(--sklearn-color-background);\n",
       "  border-radius: 1rem;\n",
       "  height: 1rem;\n",
       "  width: 1rem;\n",
       "  text-decoration: none;\n",
       "  /* unfitted */\n",
       "  color: var(--sklearn-color-unfitted-level-1);\n",
       "  border: var(--sklearn-color-unfitted-level-1) 1pt solid;\n",
       "}\n",
       "\n",
       "#sk-container-id-10 a.estimator_doc_link.fitted {\n",
       "  /* fitted */\n",
       "  border: var(--sklearn-color-fitted-level-1) 1pt solid;\n",
       "  color: var(--sklearn-color-fitted-level-1);\n",
       "}\n",
       "\n",
       "/* On hover */\n",
       "#sk-container-id-10 a.estimator_doc_link:hover {\n",
       "  /* unfitted */\n",
       "  background-color: var(--sklearn-color-unfitted-level-3);\n",
       "  color: var(--sklearn-color-background);\n",
       "  text-decoration: none;\n",
       "}\n",
       "\n",
       "#sk-container-id-10 a.estimator_doc_link.fitted:hover {\n",
       "  /* fitted */\n",
       "  background-color: var(--sklearn-color-fitted-level-3);\n",
       "}\n",
       "</style><div id=\"sk-container-id-10\" class=\"sk-top-container\"><div class=\"sk-text-repr-fallback\"><pre>PCA()</pre><b>In a Jupyter environment, please rerun this cell to show the HTML representation or trust the notebook. <br />On GitHub, the HTML representation is unable to render, please try loading this page with nbviewer.org.</b></div><div class=\"sk-container\" hidden><div class=\"sk-item\"><div class=\"sk-estimator fitted sk-toggleable\"><input class=\"sk-toggleable__control sk-hidden--visually\" id=\"sk-estimator-id-20\" type=\"checkbox\" checked><label for=\"sk-estimator-id-20\" class=\"sk-toggleable__label fitted sk-toggleable__label-arrow fitted\">&nbsp;&nbsp;PCA<a class=\"sk-estimator-doc-link fitted\" rel=\"noreferrer\" target=\"_blank\" href=\"https://scikit-learn.org/1.5/modules/generated/sklearn.decomposition.PCA.html\">?<span>Documentation for PCA</span></a><span class=\"sk-estimator-doc-link fitted\">i<span>Fitted</span></span></label><div class=\"sk-toggleable__content fitted\"><pre>PCA()</pre></div> </div></div></div></div>"
      ],
      "text/plain": [
       "PCA()"
      ]
     },
     "execution_count": 227,
     "metadata": {},
     "output_type": "execute_result"
    }
   ],
   "source": [
    "pca = PCA()\n",
    "pca.fit(X_train_scaled)"
   ]
  },
  {
   "cell_type": "code",
   "execution_count": 228,
   "metadata": {},
   "outputs": [],
   "source": [
    "cum_variance = np.cumsum(pca.explained_variance_ratio_)"
   ]
  },
  {
   "cell_type": "code",
   "execution_count": 229,
   "metadata": {},
   "outputs": [
    {
     "data": {
      "image/png": "[encoded data removed]",
      "text/plain": [
       "<Figure size 640x480 with 1 Axes>"
      ]
     },
     "metadata": {},
     "output_type": "display_data"
    }
   ],
   "source": [
    "plt.plot(range(1, len(cum_variance) + 1), cum_variance, marker=\"o\")\n",
    "plt.xlabel(\"Número de Componentes Principais\")\n",
    "plt.ylabel(\"Variância Acumulada Explicada\")\n",
    "plt.title(\"Variância Acumulada Explicada por PCA\")\n",
    "plt.grid(True)\n",
    "plt.show()"
   ]
  },
  {
   "cell_type": "code",
   "execution_count": 230,
   "metadata": {},
   "outputs": [
    {
     "data": {
      "text/plain": [
       "22"
      ]
     },
     "execution_count": 230,
     "metadata": {},
     "output_type": "execute_result"
    }
   ],
   "source": [
    "len(cum_variance[cum_variance < 0.91])"
   ]
  },
  {
   "cell_type": "markdown",
   "metadata": {},
   "source": [
    "A variância acumulada atingiu 90% com 22 componentes principais. Notamos também, a ausência de um “cotovelo” acentuado nas primeiras componentes, do gráfico de variância explicada, ideal para a aplicação do PCA. Em função disso, optamos por não utilizar essa técnica.\n"
   ]
  },
  {
   "cell_type": "markdown",
   "metadata": {},
   "source": [
    "## Model\n"
   ]
  },
  {
   "cell_type": "markdown",
   "metadata": {},
   "source": [
    "### XGB\n"
   ]
  },
  {
   "cell_type": "code",
   "execution_count": 231,
   "metadata": {},
   "outputs": [],
   "source": [
    "import xgboost as xgb\n",
    "from sklearn.model_selection import GridSearchCV"
   ]
  },
  {
   "cell_type": "code",
   "execution_count": 232,
   "metadata": {},
   "outputs": [],
   "source": [
    "from sklearn.metrics import roc_auc_score\n",
    "from evaluation import roc_auc_truncated, compute_cvm, check_ks"
   ]
  },
  {
   "cell_type": "code",
   "execution_count": 233,
   "metadata": {},
   "outputs": [],
   "source": [
    "params = {\n",
    "    \"objective\": \"binary:logistic\",\n",
    "    \"eta\": 0.05,\n",
    "    \"max_depth\": 100,\n",
    "    \"colsample_bytree\": 0.4,\n",
    "    \"eval_metric\": \"auc\",\n",
    "    \"random_state\": 23,\n",
    "}"
   ]
  },
  {
   "cell_type": "code",
   "execution_count": 234,
   "metadata": {},
   "outputs": [],
   "source": [
    "xgb_model = xgb.train(\n",
    "    params,\n",
    "    xgb.DMatrix(X_train, y_train),\n",
    ")"
   ]
  },
  {
   "cell_type": "code",
   "execution_count": 235,
   "metadata": {},
   "outputs": [],
   "source": [
    "y_train_hat_xgb = xgb_model.predict(xgb.DMatrix(X_train))\n",
    "y_agre_hat_xgb = xgb_model.predict(xgb.DMatrix(X_agre))\n",
    "y_corr_hat_xgb = xgb_model.predict(xgb.DMatrix(X_corr))"
   ]
  },
  {
   "cell_type": "code",
   "execution_count": 236,
   "metadata": {},
   "outputs": [],
   "source": [
    "from sklearn.metrics import roc_auc_score\n",
    "from evaluation import roc_auc_truncated, compute_cvm, check_ks"
   ]
  },
  {
   "cell_type": "code",
   "execution_count": 237,
   "metadata": {},
   "outputs": [
    {
     "data": {
      "text/plain": [
       "np.float64(0.999950218813777)"
      ]
     },
     "execution_count": 237,
     "metadata": {},
     "output_type": "execute_result"
    }
   ],
   "source": [
    "roc_auc_score(y_true=y_train, y_score=y_train_hat_xgb)"
   ]
  },
  {
   "cell_type": "code",
   "execution_count": 238,
   "metadata": {},
   "outputs": [
    {
     "data": {
      "text/plain": [
       "np.float64(0.03455944345861123)"
      ]
     },
     "execution_count": 238,
     "metadata": {},
     "output_type": "execute_result"
    }
   ],
   "source": [
    "check_ks(agreement_probs=y_agre_hat_xgb, check_agreement=check_agreement)"
   ]
  },
  {
   "cell_type": "code",
   "execution_count": 239,
   "metadata": {},
   "outputs": [
    {
     "data": {
      "text/plain": [
       "np.float64(0.07205998986353737)"
      ]
     },
     "execution_count": 239,
     "metadata": {},
     "output_type": "execute_result"
    }
   ],
   "source": [
    "compute_cvm(predictions=y_corr_hat_xgb, masses=check_correlation[\"mass\"])"
   ]
  },
  {
   "cell_type": "markdown",
   "metadata": {},
   "source": [
    "### Neural Network\n"
   ]
  },
  {
   "cell_type": "code",
   "execution_count": 240,
   "metadata": {},
   "outputs": [],
   "source": [
    "import tensorflow as tf\n",
    "from tensorflow import keras"
   ]
  },
  {
   "cell_type": "code",
   "execution_count": 282,
   "metadata": {},
   "outputs": [],
   "source": [
    "nn_model = keras.Sequential(\n",
    "    [\n",
    "        keras.layers.Dense(50, activation=\"relu\", input_shape=(X_train.shape[1],)),\n",
    "        keras.layers.Dense(50, activation=\"relu\"),\n",
    "        keras.layers.Dense(1, activation=\"sigmoid\"),\n",
    "    ]\n",
    ")\n",
    "\n",
    "nn_model.compile(\n",
    "    optimizer=\"adam\",\n",
    "    loss=\"binary_crossentropy\",\n",
    "    metrics=[\"accuracy\"],\n",
    ")"
   ]
  },
  {
   "cell_type": "code",
   "execution_count": 284,
   "metadata": {},
   "outputs": [
    {
     "name": "stdout",
     "output_type": "stream",
     "text": [
      "Epoch 1/35\n",
      "\u001b[1m1188/1188\u001b[0m \u001b[32m━━━━━━━━━━━━━━━━━━━━\u001b[0m\u001b[37m\u001b[0m \u001b[1m8s\u001b[0m 7ms/step - accuracy: 0.9920 - loss: 0.0265\n",
      "Epoch 2/35\n",
      "\u001b[1m1188/1188\u001b[0m \u001b[32m━━━━━━━━━━━━━━━━━━━━\u001b[0m\u001b[37m\u001b[0m \u001b[1m7s\u001b[0m 6ms/step - accuracy: 0.9919 - loss: 0.0255\n",
      "Epoch 3/35\n",
      "\u001b[1m1188/1188\u001b[0m \u001b[32m━━━━━━━━━━━━━━━━━━━━\u001b[0m\u001b[37m\u001b[0m \u001b[1m8s\u001b[0m 6ms/step - accuracy: 0.9929 - loss: 0.0225\n",
      "Epoch 4/35\n",
      "\u001b[1m1188/1188\u001b[0m \u001b[32m━━━━━━━━━━━━━━━━━━━━\u001b[0m\u001b[37m\u001b[0m \u001b[1m11s\u001b[0m 7ms/step - accuracy: 0.9926 - loss: 0.0220\n",
      "Epoch 5/35\n",
      "\u001b[1m1188/1188\u001b[0m \u001b[32m━━━━━━━━━━━━━━━━━━━━\u001b[0m\u001b[37m\u001b[0m \u001b[1m10s\u001b[0m 8ms/step - accuracy: 0.9927 - loss: 0.0236\n",
      "Epoch 6/35\n",
      "\u001b[1m1188/1188\u001b[0m \u001b[32m━━━━━━━━━━━━━━━━━━━━\u001b[0m\u001b[37m\u001b[0m \u001b[1m8s\u001b[0m 7ms/step - accuracy: 0.9928 - loss: 0.0213\n",
      "Epoch 7/35\n",
      "\u001b[1m1188/1188\u001b[0m \u001b[32m━━━━━━━━━━━━━━━━━━━━\u001b[0m\u001b[37m\u001b[0m \u001b[1m7s\u001b[0m 6ms/step - accuracy: 0.9921 - loss: 0.0213\n",
      "Epoch 8/35\n",
      "\u001b[1m1188/1188\u001b[0m \u001b[32m━━━━━━━━━━━━━━━━━━━━\u001b[0m\u001b[37m\u001b[0m \u001b[1m11s\u001b[0m 6ms/step - accuracy: 0.9928 - loss: 0.0206\n",
      "Epoch 9/35\n",
      "\u001b[1m1188/1188\u001b[0m \u001b[32m━━━━━━━━━━━━━━━━━━━━\u001b[0m\u001b[37m\u001b[0m \u001b[1m8s\u001b[0m 6ms/step - accuracy: 0.9951 - loss: 0.0163\n",
      "Epoch 10/35\n",
      "\u001b[1m1188/1188\u001b[0m \u001b[32m━━━━━━━━━━━━━━━━━━━━\u001b[0m\u001b[37m\u001b[0m \u001b[1m8s\u001b[0m 6ms/step - accuracy: 0.9944 - loss: 0.0150\n",
      "Epoch 11/35\n",
      "\u001b[1m1188/1188\u001b[0m \u001b[32m━━━━━━━━━━━━━━━━━━━━\u001b[0m\u001b[37m\u001b[0m \u001b[1m8s\u001b[0m 7ms/step - accuracy: 0.9951 - loss: 0.0152\n",
      "Epoch 12/35\n",
      "\u001b[1m1188/1188\u001b[0m \u001b[32m━━━━━━━━━━━━━━━━━━━━\u001b[0m\u001b[37m\u001b[0m \u001b[1m8s\u001b[0m 7ms/step - accuracy: 0.9953 - loss: 0.0141\n",
      "Epoch 13/35\n",
      "\u001b[1m1188/1188\u001b[0m \u001b[32m━━━━━━━━━━━━━━━━━━━━\u001b[0m\u001b[37m\u001b[0m \u001b[1m8s\u001b[0m 6ms/step - accuracy: 0.9955 - loss: 0.0135\n",
      "Epoch 14/35\n",
      "\u001b[1m1188/1188\u001b[0m \u001b[32m━━━━━━━━━━━━━━━━━━━━\u001b[0m\u001b[37m\u001b[0m \u001b[1m8s\u001b[0m 6ms/step - accuracy: 0.9956 - loss: 0.0120\n",
      "Epoch 15/35\n",
      "\u001b[1m1188/1188\u001b[0m \u001b[32m━━━━━━━━━━━━━━━━━━━━\u001b[0m\u001b[37m\u001b[0m \u001b[1m8s\u001b[0m 7ms/step - accuracy: 0.9959 - loss: 0.0109\n",
      "Epoch 16/35\n",
      "\u001b[1m1188/1188\u001b[0m \u001b[32m━━━━━━━━━━━━━━━━━━━━\u001b[0m\u001b[37m\u001b[0m \u001b[1m7s\u001b[0m 6ms/step - accuracy: 0.9951 - loss: 0.0130\n",
      "Epoch 17/35\n",
      "\u001b[1m1188/1188\u001b[0m \u001b[32m━━━━━━━━━━━━━━━━━━━━\u001b[0m\u001b[37m\u001b[0m \u001b[1m6s\u001b[0m 5ms/step - accuracy: 0.9961 - loss: 0.0112\n",
      "Epoch 18/35\n",
      "\u001b[1m1188/1188\u001b[0m \u001b[32m━━━━━━━━━━━━━━━━━━━━\u001b[0m\u001b[37m\u001b[0m \u001b[1m5s\u001b[0m 4ms/step - accuracy: 0.9968 - loss: 0.0092\n",
      "Epoch 19/35\n",
      "\u001b[1m1188/1188\u001b[0m \u001b[32m━━━━━━━━━━━━━━━━━━━━\u001b[0m\u001b[37m\u001b[0m \u001b[1m4s\u001b[0m 3ms/step - accuracy: 0.9964 - loss: 0.0105\n",
      "Epoch 20/35\n",
      "\u001b[1m1188/1188\u001b[0m \u001b[32m━━━━━━━━━━━━━━━━━━━━\u001b[0m\u001b[37m\u001b[0m \u001b[1m4s\u001b[0m 3ms/step - accuracy: 0.9960 - loss: 0.0108\n",
      "Epoch 21/35\n",
      "\u001b[1m1188/1188\u001b[0m \u001b[32m━━━━━━━━━━━━━━━━━━━━\u001b[0m\u001b[37m\u001b[0m \u001b[1m4s\u001b[0m 3ms/step - accuracy: 0.9970 - loss: 0.0080\n",
      "Epoch 22/35\n",
      "\u001b[1m1188/1188\u001b[0m \u001b[32m━━━━━━━━━━━━━━━━━━━━\u001b[0m\u001b[37m\u001b[0m \u001b[1m5s\u001b[0m 5ms/step - accuracy: 0.9970 - loss: 0.0076\n",
      "Epoch 23/35\n",
      "\u001b[1m1188/1188\u001b[0m \u001b[32m━━━━━━━━━━━━━━━━━━━━\u001b[0m\u001b[37m\u001b[0m \u001b[1m4s\u001b[0m 3ms/step - accuracy: 0.9976 - loss: 0.0064\n",
      "Epoch 24/35\n",
      "\u001b[1m1188/1188\u001b[0m \u001b[32m━━━━━━━━━━━━━━━━━━━━\u001b[0m\u001b[37m\u001b[0m \u001b[1m3s\u001b[0m 3ms/step - accuracy: 0.9978 - loss: 0.0066\n",
      "Epoch 25/35\n",
      "\u001b[1m1188/1188\u001b[0m \u001b[32m━━━━━━━━━━━━━━━━━━━━\u001b[0m\u001b[37m\u001b[0m \u001b[1m4s\u001b[0m 3ms/step - accuracy: 0.9982 - loss: 0.0057\n",
      "Epoch 26/35\n",
      "\u001b[1m1188/1188\u001b[0m \u001b[32m━━━━━━━━━━━━━━━━━━━━\u001b[0m\u001b[37m\u001b[0m \u001b[1m3s\u001b[0m 2ms/step - accuracy: 0.9981 - loss: 0.0057\n",
      "Epoch 27/35\n",
      "\u001b[1m1188/1188\u001b[0m \u001b[32m━━━━━━━━━━━━━━━━━━━━\u001b[0m\u001b[37m\u001b[0m \u001b[1m3s\u001b[0m 2ms/step - accuracy: 0.9975 - loss: 0.0075\n",
      "Epoch 28/35\n",
      "\u001b[1m1188/1188\u001b[0m \u001b[32m━━━━━━━━━━━━━━━━━━━━\u001b[0m\u001b[37m\u001b[0m \u001b[1m3s\u001b[0m 2ms/step - accuracy: 0.9982 - loss: 0.0050\n",
      "Epoch 29/35\n",
      "\u001b[1m1188/1188\u001b[0m \u001b[32m━━━━━━━━━━━━━━━━━━━━\u001b[0m\u001b[37m\u001b[0m \u001b[1m3s\u001b[0m 2ms/step - accuracy: 0.9974 - loss: 0.0074\n",
      "Epoch 30/35\n",
      "\u001b[1m1188/1188\u001b[0m \u001b[32m━━━━━━━━━━━━━━━━━━━━\u001b[0m\u001b[37m\u001b[0m \u001b[1m3s\u001b[0m 2ms/step - accuracy: 0.9987 - loss: 0.0037\n",
      "Epoch 31/35\n",
      "\u001b[1m1188/1188\u001b[0m \u001b[32m━━━━━━━━━━━━━━━━━━━━\u001b[0m\u001b[37m\u001b[0m \u001b[1m3s\u001b[0m 3ms/step - accuracy: 0.9979 - loss: 0.0059\n",
      "Epoch 32/35\n",
      "\u001b[1m1188/1188\u001b[0m \u001b[32m━━━━━━━━━━━━━━━━━━━━\u001b[0m\u001b[37m\u001b[0m \u001b[1m5s\u001b[0m 2ms/step - accuracy: 0.9985 - loss: 0.0054\n",
      "Epoch 33/35\n",
      "\u001b[1m1188/1188\u001b[0m \u001b[32m━━━━━━━━━━━━━━━━━━━━\u001b[0m\u001b[37m\u001b[0m \u001b[1m2s\u001b[0m 2ms/step - accuracy: 0.9987 - loss: 0.0041\n",
      "Epoch 34/35\n",
      "\u001b[1m1188/1188\u001b[0m \u001b[32m━━━━━━━━━━━━━━━━━━━━\u001b[0m\u001b[37m\u001b[0m \u001b[1m2s\u001b[0m 2ms/step - accuracy: 0.9988 - loss: 0.0034\n",
      "Epoch 35/35\n",
      "\u001b[1m1188/1188\u001b[0m \u001b[32m━━━━━━━━━━━━━━━━━━━━\u001b[0m\u001b[37m\u001b[0m \u001b[1m2s\u001b[0m 2ms/step - accuracy: 0.9987 - loss: 0.0035\n"
     ]
    },
    {
     "data": {
      "text/plain": [
       "<keras.src.callbacks.history.History at 0x1f20112bb00>"
      ]
     },
     "execution_count": 284,
     "metadata": {},
     "output_type": "execute_result"
    }
   ],
   "source": [
    "nn_model.fit(normalizer(X_train), y_train, epochs=35, verbose=1)  # 4min"
   ]
  },
  {
   "cell_type": "code",
   "execution_count": 285,
   "metadata": {},
   "outputs": [
    {
     "name": "stdout",
     "output_type": "stream",
     "text": [
      "\u001b[1m1188/1188\u001b[0m \u001b[32m━━━━━━━━━━━━━━━━━━━━\u001b[0m\u001b[37m\u001b[0m \u001b[1m1s\u001b[0m 835us/step\n"
     ]
    }
   ],
   "source": [
    "y_train_hat_mlp = np.ravel(nn_model.predict(X_train_scaled))"
   ]
  },
  {
   "cell_type": "code",
   "execution_count": 286,
   "metadata": {},
   "outputs": [
    {
     "name": "stdout",
     "output_type": "stream",
     "text": [
      "\u001b[1m10349/10349\u001b[0m \u001b[32m━━━━━━━━━━━━━━━━━━━━\u001b[0m\u001b[37m\u001b[0m \u001b[1m9s\u001b[0m 896us/step\n"
     ]
    }
   ],
   "source": [
    "y_agre_hat_mlp = np.ravel(nn_model.predict(X_agre_scaled))"
   ]
  },
  {
   "cell_type": "code",
   "execution_count": 287,
   "metadata": {},
   "outputs": [
    {
     "name": "stdout",
     "output_type": "stream",
     "text": [
      "\u001b[1m173/173\u001b[0m \u001b[32m━━━━━━━━━━━━━━━━━━━━\u001b[0m\u001b[37m\u001b[0m \u001b[1m0s\u001b[0m 657us/step\n"
     ]
    }
   ],
   "source": [
    "y_corr_hat_mlp = np.ravel(nn_model.predict(X_corr_scaled))"
   ]
  },
  {
   "cell_type": "code",
   "execution_count": 288,
   "metadata": {},
   "outputs": [
    {
     "data": {
      "text/plain": [
       "np.float64(0.9999798880612524)"
      ]
     },
     "execution_count": 288,
     "metadata": {},
     "output_type": "execute_result"
    }
   ],
   "source": [
    "roc_auc_score(y_true=y_train, y_score=y_train_hat_mlp)"
   ]
  },
  {
   "cell_type": "code",
   "execution_count": 289,
   "metadata": {},
   "outputs": [
    {
     "data": {
      "text/plain": [
       "np.float64(0.2669897748987808)"
      ]
     },
     "execution_count": 289,
     "metadata": {},
     "output_type": "execute_result"
    }
   ],
   "source": [
    "check_ks(agreement_probs=y_agre_hat_mlp, check_agreement=check_agreement)"
   ]
  },
  {
   "cell_type": "code",
   "execution_count": 290,
   "metadata": {},
   "outputs": [
    {
     "data": {
      "text/plain": [
       "np.float64(0.11344693732854372)"
      ]
     },
     "execution_count": 290,
     "metadata": {},
     "output_type": "execute_result"
    }
   ],
   "source": [
    "compute_cvm(predictions=np.ravel(y_corr_hat_mlp), masses=check_correlation[\"mass\"])"
   ]
  },
  {
   "cell_type": "markdown",
   "metadata": {},
   "source": [
    "### Random Forest\n"
   ]
  },
  {
   "cell_type": "code",
   "execution_count": 300,
   "metadata": {},
   "outputs": [],
   "source": [
    "from sklearn.ensemble import RandomForestClassifier"
   ]
  },
  {
   "cell_type": "code",
   "execution_count": 301,
   "metadata": {},
   "outputs": [],
   "source": [
    "rf_model = RandomForestClassifier(\n",
    "    n_estimators=100, max_depth=10, random_state=42, n_jobs=-1\n",
    ")"
   ]
  },
  {
   "cell_type": "code",
   "execution_count": 302,
   "metadata": {},
   "outputs": [],
   "source": [
    "rf_model.fit(X_train_scaled, y_train)\n",
    "\n",
    "y_train_hat_rf = rf_model.predict(X_train_scaled)\n",
    "y_agre_hat_rf = rf_model.predict(X_agre_scaled)\n",
    "y_corr_hat_rf = rf_model.predict(X_corr_scaled)"
   ]
  },
  {
   "cell_type": "code",
   "execution_count": 303,
   "metadata": {},
   "outputs": [
    {
     "data": {
      "text/plain": [
       "np.float64(0.9847829374979976)"
      ]
     },
     "execution_count": 303,
     "metadata": {},
     "output_type": "execute_result"
    }
   ],
   "source": [
    "roc_auc_score(y_true=y_train, y_score=y_train_hat_rf)"
   ]
  },
  {
   "cell_type": "code",
   "execution_count": 304,
   "metadata": {},
   "outputs": [
    {
     "data": {
      "text/plain": [
       "np.float64(0.0054635750478476686)"
      ]
     },
     "execution_count": 304,
     "metadata": {},
     "output_type": "execute_result"
    }
   ],
   "source": [
    "check_ks(agreement_probs=y_agre_hat_rf, check_agreement=check_agreement)"
   ]
  },
  {
   "cell_type": "code",
   "execution_count": 305,
   "metadata": {},
   "outputs": [
    {
     "data": {
      "text/plain": [
       "np.float64(0.11992186814757975)"
      ]
     },
     "execution_count": 305,
     "metadata": {},
     "output_type": "execute_result"
    }
   ],
   "source": [
    "compute_cvm(predictions=np.ravel(y_corr_hat_rf), masses=check_correlation[\"mass\"])"
   ]
  },
  {
   "cell_type": "markdown",
   "metadata": {},
   "source": [
    "### Ensemble\n"
   ]
  },
  {
   "cell_type": "code",
   "execution_count": 306,
   "metadata": {},
   "outputs": [
    {
     "data": {
      "text/plain": [
       "(<Sequential name=sequential_2, built=True>,\n",
       " <xgboost.core.Booster at 0x1f186976de0>,\n",
       " RandomForestClassifier(max_depth=10, n_jobs=-1, random_state=42))"
      ]
     },
     "execution_count": 306,
     "metadata": {},
     "output_type": "execute_result"
    }
   ],
   "source": [
    "nn_model, xgb_model, rf_model"
   ]
  },
  {
   "cell_type": "code",
   "execution_count": 307,
   "metadata": {},
   "outputs": [],
   "source": [
    "weight_xgb = 0.45\n",
    "weight_mlp = 0.2\n",
    "weight_rf = 1 - (weight_xgb + weight_mlp)"
   ]
  },
  {
   "cell_type": "code",
   "execution_count": 313,
   "metadata": {},
   "outputs": [],
   "source": [
    "train_result = [y_train_hat_xgb, y_train_hat_mlp, y_train_hat_rf]\n",
    "corr_result = [y_corr_hat_xgb, y_corr_hat_mlp, y_corr_hat_rf]\n",
    "agre_result = [y_agre_hat_xgb, y_agre_hat_mlp, y_agre_hat_rf]"
   ]
  },
  {
   "cell_type": "code",
   "execution_count": 323,
   "metadata": {},
   "outputs": [],
   "source": [
    "train_result_weighted = (\n",
    "    train_result[0] * weight_xgb\n",
    "    + train_result[1] * weight_mlp\n",
    "    + train_result[2] * weight_rf\n",
    ")\n",
    "agre_result_weighted = (\n",
    "    agre_result[0] * weight_xgb\n",
    "    + agre_result[1] * weight_mlp\n",
    "    + agre_result[2] * weight_rf\n",
    ")* 1\n",
    "    / 3\n",
    "corr_result_weighted = (\n",
    "    (\n",
    "        (\n",
    "            corr_result[0] * weight_xgb\n",
    "            + corr_result[1] * weight_mlp\n",
    "            + corr_result[2] * weight_rf\n",
    "        )\n",
    "    )\n",
    "    * 1\n",
    "    / 3\n",
    ")"
   ]
  },
  {
   "cell_type": "markdown",
   "metadata": {},
   "source": [
    "## Evaluation\n"
   ]
  },
  {
   "cell_type": "markdown",
   "metadata": {},
   "source": [
    "### ROC\n"
   ]
  },
  {
   "cell_type": "code",
   "execution_count": 324,
   "metadata": {},
   "outputs": [
    {
     "data": {
      "text/plain": [
       "np.float64(0.999984148957328)"
      ]
     },
     "execution_count": 324,
     "metadata": {},
     "output_type": "execute_result"
    }
   ],
   "source": [
    "roc_auc_score(y_true=y_train, y_score=train_result_weighted)"
   ]
  },
  {
   "cell_type": "markdown",
   "metadata": {},
   "source": [
    "### Agreement\n"
   ]
  },
  {
   "cell_type": "code",
   "execution_count": 325,
   "metadata": {},
   "outputs": [
    {
     "data": {
      "text/plain": [
       "np.float64(0.03492895499198445)"
      ]
     },
     "execution_count": 325,
     "metadata": {},
     "output_type": "execute_result"
    }
   ],
   "source": [
    "check_ks(agreement_probs=agre_result_weighted, check_agreement=check_agreement)"
   ]
  },
  {
   "cell_type": "markdown",
   "metadata": {},
   "source": [
    "### Correlation\n"
   ]
  },
  {
   "cell_type": "code",
   "execution_count": 326,
   "metadata": {},
   "outputs": [
    {
     "data": {
      "text/plain": [
       "np.float64(0.07094648618171709)"
      ]
     },
     "execution_count": 326,
     "metadata": {},
     "output_type": "execute_result"
    }
   ],
   "source": [
    "compute_cvm(predictions=corr_result_weighted, masses=check_correlation[\"mass\"])"
   ]
  },
  {
   "cell_type": "markdown",
   "metadata": {},
   "source": []
  },
  {
   "cell_type": "markdown",
   "metadata": {},
   "source": []
  }
 ],
 "metadata": {
  "kernelspec": {
   "display_name": "base",
   "language": "python",
   "name": "python3"
  },
  "language_info": {
   "codemirror_mode": {
    "name": "ipython",
    "version": 3
   },
   "file_extension": ".py",
   "mimetype": "text/x-python",
   "name": "python",
   "nbconvert_exporter": "python",
   "pygments_lexer": "ipython3",
   "version": "3.12.5"
  }
 },
 "nbformat": 4,
 "nbformat_minor": 2
}
